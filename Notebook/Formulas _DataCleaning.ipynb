{
 "cells": [
  {
   "cell_type": "markdown",
   "id": "ba0fc0a6",
   "metadata": {},
   "source": [
    "## Data Cleaning Notebook\n",
    "\n",
    "In order to get insights from the given data frame, in this first step, some cleaning will be done. Summary: eliminating the null values, identifying outiers, finding correlation, etc."
   ]
  },
  {
   "cell_type": "markdown",
   "id": "58958e1c",
   "metadata": {},
   "source": [
    "# 1. Data import"
   ]
  },
  {
   "cell_type": "code",
   "execution_count": 1,
   "id": "62f2c65a",
   "metadata": {},
   "outputs": [],
   "source": [
    "import pandas as pd\n",
    "import numpy as np\n",
    "pd.set_option(\"display.max_columns\", None)"
   ]
  },
  {
   "cell_type": "code",
   "execution_count": 2,
   "id": "f366b9bf",
   "metadata": {},
   "outputs": [
    {
     "data": {
      "text/html": [
       "<div>\n",
       "<style scoped>\n",
       "    .dataframe tbody tr th:only-of-type {\n",
       "        vertical-align: middle;\n",
       "    }\n",
       "\n",
       "    .dataframe tbody tr th {\n",
       "        vertical-align: top;\n",
       "    }\n",
       "\n",
       "    .dataframe thead th {\n",
       "        text-align: right;\n",
       "    }\n",
       "</style>\n",
       "<table border=\"1\" class=\"dataframe\">\n",
       "  <thead>\n",
       "    <tr style=\"text-align: right;\">\n",
       "      <th></th>\n",
       "      <th>Case Number</th>\n",
       "      <th>Date</th>\n",
       "      <th>Year</th>\n",
       "      <th>Type</th>\n",
       "      <th>Country</th>\n",
       "      <th>Area</th>\n",
       "      <th>Location</th>\n",
       "      <th>Activity</th>\n",
       "      <th>Name</th>\n",
       "      <th>Sex</th>\n",
       "      <th>Age</th>\n",
       "      <th>Injury</th>\n",
       "      <th>Fatal (Y/N)</th>\n",
       "      <th>Time</th>\n",
       "      <th>Species</th>\n",
       "      <th>Investigator or Source</th>\n",
       "      <th>pdf</th>\n",
       "      <th>href formula</th>\n",
       "      <th>href</th>\n",
       "      <th>Case Number.1</th>\n",
       "      <th>Case Number.2</th>\n",
       "      <th>original order</th>\n",
       "      <th>Unnamed: 22</th>\n",
       "      <th>Unnamed: 23</th>\n",
       "    </tr>\n",
       "  </thead>\n",
       "  <tbody>\n",
       "    <tr>\n",
       "      <th>0</th>\n",
       "      <td>2018.06.25</td>\n",
       "      <td>25-Jun-2018</td>\n",
       "      <td>2018.0</td>\n",
       "      <td>Boating</td>\n",
       "      <td>USA</td>\n",
       "      <td>California</td>\n",
       "      <td>Oceanside, San Diego County</td>\n",
       "      <td>Paddling</td>\n",
       "      <td>Julie Wolfe</td>\n",
       "      <td>F</td>\n",
       "      <td>57</td>\n",
       "      <td>No injury to occupant, outrigger canoe and pad...</td>\n",
       "      <td>N</td>\n",
       "      <td>18h00</td>\n",
       "      <td>White shark</td>\n",
       "      <td>R. Collier, GSAF</td>\n",
       "      <td>2018.06.25-Wolfe.pdf</td>\n",
       "      <td>http://sharkattackfile.net/spreadsheets/pdf_di...</td>\n",
       "      <td>http://sharkattackfile.net/spreadsheets/pdf_di...</td>\n",
       "      <td>2018.06.25</td>\n",
       "      <td>2018.06.25</td>\n",
       "      <td>6303.0</td>\n",
       "      <td>NaN</td>\n",
       "      <td>NaN</td>\n",
       "    </tr>\n",
       "    <tr>\n",
       "      <th>1</th>\n",
       "      <td>2018.06.18</td>\n",
       "      <td>18-Jun-2018</td>\n",
       "      <td>2018.0</td>\n",
       "      <td>Unprovoked</td>\n",
       "      <td>USA</td>\n",
       "      <td>Georgia</td>\n",
       "      <td>St. Simon Island, Glynn County</td>\n",
       "      <td>Standing</td>\n",
       "      <td>Adyson McNeely</td>\n",
       "      <td>F</td>\n",
       "      <td>11</td>\n",
       "      <td>Minor injury to left thigh</td>\n",
       "      <td>N</td>\n",
       "      <td>14h00  -15h00</td>\n",
       "      <td>NaN</td>\n",
       "      <td>K.McMurray, TrackingSharks.com</td>\n",
       "      <td>2018.06.18-McNeely.pdf</td>\n",
       "      <td>http://sharkattackfile.net/spreadsheets/pdf_di...</td>\n",
       "      <td>http://sharkattackfile.net/spreadsheets/pdf_di...</td>\n",
       "      <td>2018.06.18</td>\n",
       "      <td>2018.06.18</td>\n",
       "      <td>6302.0</td>\n",
       "      <td>NaN</td>\n",
       "      <td>NaN</td>\n",
       "    </tr>\n",
       "    <tr>\n",
       "      <th>2</th>\n",
       "      <td>2018.06.09</td>\n",
       "      <td>09-Jun-2018</td>\n",
       "      <td>2018.0</td>\n",
       "      <td>Invalid</td>\n",
       "      <td>USA</td>\n",
       "      <td>Hawaii</td>\n",
       "      <td>Habush, Oahu</td>\n",
       "      <td>Surfing</td>\n",
       "      <td>John Denges</td>\n",
       "      <td>M</td>\n",
       "      <td>48</td>\n",
       "      <td>Injury to left lower leg from surfboard skeg</td>\n",
       "      <td>N</td>\n",
       "      <td>07h45</td>\n",
       "      <td>NaN</td>\n",
       "      <td>K.McMurray, TrackingSharks.com</td>\n",
       "      <td>2018.06.09-Denges.pdf</td>\n",
       "      <td>http://sharkattackfile.net/spreadsheets/pdf_di...</td>\n",
       "      <td>http://sharkattackfile.net/spreadsheets/pdf_di...</td>\n",
       "      <td>2018.06.09</td>\n",
       "      <td>2018.06.09</td>\n",
       "      <td>6301.0</td>\n",
       "      <td>NaN</td>\n",
       "      <td>NaN</td>\n",
       "    </tr>\n",
       "    <tr>\n",
       "      <th>3</th>\n",
       "      <td>2018.06.08</td>\n",
       "      <td>08-Jun-2018</td>\n",
       "      <td>2018.0</td>\n",
       "      <td>Unprovoked</td>\n",
       "      <td>AUSTRALIA</td>\n",
       "      <td>New South Wales</td>\n",
       "      <td>Arrawarra Headland</td>\n",
       "      <td>Surfing</td>\n",
       "      <td>male</td>\n",
       "      <td>M</td>\n",
       "      <td>NaN</td>\n",
       "      <td>Minor injury to lower leg</td>\n",
       "      <td>N</td>\n",
       "      <td>NaN</td>\n",
       "      <td>2 m shark</td>\n",
       "      <td>B. Myatt, GSAF</td>\n",
       "      <td>2018.06.08-Arrawarra.pdf</td>\n",
       "      <td>http://sharkattackfile.net/spreadsheets/pdf_di...</td>\n",
       "      <td>http://sharkattackfile.net/spreadsheets/pdf_di...</td>\n",
       "      <td>2018.06.08</td>\n",
       "      <td>2018.06.08</td>\n",
       "      <td>6300.0</td>\n",
       "      <td>NaN</td>\n",
       "      <td>NaN</td>\n",
       "    </tr>\n",
       "    <tr>\n",
       "      <th>4</th>\n",
       "      <td>2018.06.04</td>\n",
       "      <td>04-Jun-2018</td>\n",
       "      <td>2018.0</td>\n",
       "      <td>Provoked</td>\n",
       "      <td>MEXICO</td>\n",
       "      <td>Colima</td>\n",
       "      <td>La Ticla</td>\n",
       "      <td>Free diving</td>\n",
       "      <td>Gustavo Ramos</td>\n",
       "      <td>M</td>\n",
       "      <td>NaN</td>\n",
       "      <td>Lacerations to leg &amp; hand shark PROVOKED INCIDENT</td>\n",
       "      <td>N</td>\n",
       "      <td>NaN</td>\n",
       "      <td>Tiger shark, 3m</td>\n",
       "      <td>A .Kipper</td>\n",
       "      <td>2018.06.04-Ramos.pdf</td>\n",
       "      <td>http://sharkattackfile.net/spreadsheets/pdf_di...</td>\n",
       "      <td>http://sharkattackfile.net/spreadsheets/pdf_di...</td>\n",
       "      <td>2018.06.04</td>\n",
       "      <td>2018.06.04</td>\n",
       "      <td>6299.0</td>\n",
       "      <td>NaN</td>\n",
       "      <td>NaN</td>\n",
       "    </tr>\n",
       "  </tbody>\n",
       "</table>\n",
       "</div>"
      ],
      "text/plain": [
       "  Case Number         Date    Year        Type    Country             Area  \\\n",
       "0  2018.06.25  25-Jun-2018  2018.0     Boating        USA       California   \n",
       "1  2018.06.18  18-Jun-2018  2018.0  Unprovoked        USA          Georgia   \n",
       "2  2018.06.09  09-Jun-2018  2018.0     Invalid        USA           Hawaii   \n",
       "3  2018.06.08  08-Jun-2018  2018.0  Unprovoked  AUSTRALIA  New South Wales   \n",
       "4  2018.06.04  04-Jun-2018  2018.0    Provoked     MEXICO           Colima   \n",
       "\n",
       "                         Location     Activity             Name Sex   Age  \\\n",
       "0     Oceanside, San Diego County     Paddling      Julie Wolfe    F   57   \n",
       "1  St. Simon Island, Glynn County     Standing  Adyson McNeely     F   11   \n",
       "2                    Habush, Oahu      Surfing      John Denges    M   48   \n",
       "3              Arrawarra Headland      Surfing             male    M  NaN   \n",
       "4                        La Ticla  Free diving   Gustavo Ramos     M  NaN   \n",
       "\n",
       "                                              Injury Fatal (Y/N)  \\\n",
       "0  No injury to occupant, outrigger canoe and pad...           N   \n",
       "1                         Minor injury to left thigh           N   \n",
       "2       Injury to left lower leg from surfboard skeg           N   \n",
       "3                          Minor injury to lower leg           N   \n",
       "4  Lacerations to leg & hand shark PROVOKED INCIDENT           N   \n",
       "\n",
       "            Time         Species           Investigator or Source  \\\n",
       "0          18h00      White shark                R. Collier, GSAF   \n",
       "1  14h00  -15h00              NaN  K.McMurray, TrackingSharks.com   \n",
       "2          07h45              NaN  K.McMurray, TrackingSharks.com   \n",
       "3            NaN        2 m shark                  B. Myatt, GSAF   \n",
       "4            NaN  Tiger shark, 3m                       A .Kipper   \n",
       "\n",
       "                        pdf  \\\n",
       "0      2018.06.25-Wolfe.pdf   \n",
       "1    2018.06.18-McNeely.pdf   \n",
       "2     2018.06.09-Denges.pdf   \n",
       "3  2018.06.08-Arrawarra.pdf   \n",
       "4      2018.06.04-Ramos.pdf   \n",
       "\n",
       "                                        href formula  \\\n",
       "0  http://sharkattackfile.net/spreadsheets/pdf_di...   \n",
       "1  http://sharkattackfile.net/spreadsheets/pdf_di...   \n",
       "2  http://sharkattackfile.net/spreadsheets/pdf_di...   \n",
       "3  http://sharkattackfile.net/spreadsheets/pdf_di...   \n",
       "4  http://sharkattackfile.net/spreadsheets/pdf_di...   \n",
       "\n",
       "                                                href Case Number.1  \\\n",
       "0  http://sharkattackfile.net/spreadsheets/pdf_di...    2018.06.25   \n",
       "1  http://sharkattackfile.net/spreadsheets/pdf_di...    2018.06.18   \n",
       "2  http://sharkattackfile.net/spreadsheets/pdf_di...    2018.06.09   \n",
       "3  http://sharkattackfile.net/spreadsheets/pdf_di...    2018.06.08   \n",
       "4  http://sharkattackfile.net/spreadsheets/pdf_di...    2018.06.04   \n",
       "\n",
       "  Case Number.2  original order Unnamed: 22 Unnamed: 23  \n",
       "0    2018.06.25          6303.0         NaN         NaN  \n",
       "1    2018.06.18          6302.0         NaN         NaN  \n",
       "2    2018.06.09          6301.0         NaN         NaN  \n",
       "3    2018.06.08          6300.0         NaN         NaN  \n",
       "4    2018.06.04          6299.0         NaN         NaN  "
      ]
     },
     "execution_count": 2,
     "metadata": {},
     "output_type": "execute_result"
    }
   ],
   "source": [
    "df=pd.read_csv('archive/attacks.csv', encoding='latin1')\n",
    "\n",
    "df.head()"
   ]
  },
  {
   "cell_type": "code",
   "execution_count": 3,
   "id": "f0717583",
   "metadata": {},
   "outputs": [
    {
     "data": {
      "text/plain": [
       "(25723, 24)"
      ]
     },
     "execution_count": 3,
     "metadata": {},
     "output_type": "execute_result"
    }
   ],
   "source": [
    "dim_orig=df.shape\n",
    "dim_orig"
   ]
  },
  {
   "cell_type": "code",
   "execution_count": 4,
   "id": "27c8e6e2",
   "metadata": {},
   "outputs": [
    {
     "name": "stdout",
     "output_type": "stream",
     "text": [
      "<class 'pandas.core.frame.DataFrame'>\n",
      "RangeIndex: 25723 entries, 0 to 25722\n",
      "Data columns (total 24 columns):\n",
      " #   Column                  Non-Null Count  Dtype  \n",
      "---  ------                  --------------  -----  \n",
      " 0   Case Number             8702 non-null   object \n",
      " 1   Date                    6302 non-null   object \n",
      " 2   Year                    6300 non-null   float64\n",
      " 3   Type                    6298 non-null   object \n",
      " 4   Country                 6252 non-null   object \n",
      " 5   Area                    5847 non-null   object \n",
      " 6   Location                5762 non-null   object \n",
      " 7   Activity                5758 non-null   object \n",
      " 8   Name                    6092 non-null   object \n",
      " 9   Sex                     5737 non-null   object \n",
      " 10  Age                     3471 non-null   object \n",
      " 11  Injury                  6274 non-null   object \n",
      " 12  Fatal (Y/N)             5763 non-null   object \n",
      " 13  Time                    2948 non-null   object \n",
      " 14  Species                 3464 non-null   object \n",
      " 15  Investigator or Source  6285 non-null   object \n",
      " 16  pdf                     6302 non-null   object \n",
      " 17  href formula            6301 non-null   object \n",
      " 18  href                    6302 non-null   object \n",
      " 19  Case Number.1           6302 non-null   object \n",
      " 20  Case Number.2           6302 non-null   object \n",
      " 21  original order          6309 non-null   float64\n",
      " 22  Unnamed: 22             1 non-null      object \n",
      " 23  Unnamed: 23             2 non-null      object \n",
      "dtypes: float64(2), object(22)\n",
      "memory usage: 4.7+ MB\n"
     ]
    }
   ],
   "source": [
    "df.info()"
   ]
  },
  {
   "cell_type": "code",
   "execution_count": 5,
   "id": "644d560d",
   "metadata": {
    "scrolled": true
   },
   "outputs": [
    {
     "data": {
      "text/html": [
       "<div>\n",
       "<style scoped>\n",
       "    .dataframe tbody tr th:only-of-type {\n",
       "        vertical-align: middle;\n",
       "    }\n",
       "\n",
       "    .dataframe tbody tr th {\n",
       "        vertical-align: top;\n",
       "    }\n",
       "\n",
       "    .dataframe thead th {\n",
       "        text-align: right;\n",
       "    }\n",
       "</style>\n",
       "<table border=\"1\" class=\"dataframe\">\n",
       "  <thead>\n",
       "    <tr style=\"text-align: right;\">\n",
       "      <th></th>\n",
       "      <th>case_number</th>\n",
       "      <th>date</th>\n",
       "      <th>year</th>\n",
       "      <th>type</th>\n",
       "      <th>country</th>\n",
       "      <th>area</th>\n",
       "      <th>location</th>\n",
       "      <th>activity</th>\n",
       "      <th>name</th>\n",
       "      <th>sex_</th>\n",
       "      <th>age</th>\n",
       "      <th>injury</th>\n",
       "      <th>fatal_yon</th>\n",
       "      <th>time</th>\n",
       "      <th>species_</th>\n",
       "      <th>investigator_or_source</th>\n",
       "      <th>pdf</th>\n",
       "      <th>href_formula</th>\n",
       "      <th>href</th>\n",
       "      <th>case_number_1</th>\n",
       "      <th>case_number_2</th>\n",
       "      <th>original_order</th>\n",
       "      <th>unnamed_22</th>\n",
       "      <th>unnamed_23</th>\n",
       "    </tr>\n",
       "  </thead>\n",
       "  <tbody>\n",
       "    <tr>\n",
       "      <th>0</th>\n",
       "      <td>2018.06.25</td>\n",
       "      <td>25-Jun-2018</td>\n",
       "      <td>2018.0</td>\n",
       "      <td>Boating</td>\n",
       "      <td>USA</td>\n",
       "      <td>California</td>\n",
       "      <td>Oceanside, San Diego County</td>\n",
       "      <td>Paddling</td>\n",
       "      <td>Julie Wolfe</td>\n",
       "      <td>F</td>\n",
       "      <td>57</td>\n",
       "      <td>No injury to occupant, outrigger canoe and pad...</td>\n",
       "      <td>N</td>\n",
       "      <td>18h00</td>\n",
       "      <td>White shark</td>\n",
       "      <td>R. Collier, GSAF</td>\n",
       "      <td>2018.06.25-Wolfe.pdf</td>\n",
       "      <td>http://sharkattackfile.net/spreadsheets/pdf_di...</td>\n",
       "      <td>http://sharkattackfile.net/spreadsheets/pdf_di...</td>\n",
       "      <td>2018.06.25</td>\n",
       "      <td>2018.06.25</td>\n",
       "      <td>6303.0</td>\n",
       "      <td>NaN</td>\n",
       "      <td>NaN</td>\n",
       "    </tr>\n",
       "    <tr>\n",
       "      <th>1</th>\n",
       "      <td>2018.06.18</td>\n",
       "      <td>18-Jun-2018</td>\n",
       "      <td>2018.0</td>\n",
       "      <td>Unprovoked</td>\n",
       "      <td>USA</td>\n",
       "      <td>Georgia</td>\n",
       "      <td>St. Simon Island, Glynn County</td>\n",
       "      <td>Standing</td>\n",
       "      <td>Adyson McNeely</td>\n",
       "      <td>F</td>\n",
       "      <td>11</td>\n",
       "      <td>Minor injury to left thigh</td>\n",
       "      <td>N</td>\n",
       "      <td>14h00  -15h00</td>\n",
       "      <td>NaN</td>\n",
       "      <td>K.McMurray, TrackingSharks.com</td>\n",
       "      <td>2018.06.18-McNeely.pdf</td>\n",
       "      <td>http://sharkattackfile.net/spreadsheets/pdf_di...</td>\n",
       "      <td>http://sharkattackfile.net/spreadsheets/pdf_di...</td>\n",
       "      <td>2018.06.18</td>\n",
       "      <td>2018.06.18</td>\n",
       "      <td>6302.0</td>\n",
       "      <td>NaN</td>\n",
       "      <td>NaN</td>\n",
       "    </tr>\n",
       "    <tr>\n",
       "      <th>2</th>\n",
       "      <td>2018.06.09</td>\n",
       "      <td>09-Jun-2018</td>\n",
       "      <td>2018.0</td>\n",
       "      <td>Invalid</td>\n",
       "      <td>USA</td>\n",
       "      <td>Hawaii</td>\n",
       "      <td>Habush, Oahu</td>\n",
       "      <td>Surfing</td>\n",
       "      <td>John Denges</td>\n",
       "      <td>M</td>\n",
       "      <td>48</td>\n",
       "      <td>Injury to left lower leg from surfboard skeg</td>\n",
       "      <td>N</td>\n",
       "      <td>07h45</td>\n",
       "      <td>NaN</td>\n",
       "      <td>K.McMurray, TrackingSharks.com</td>\n",
       "      <td>2018.06.09-Denges.pdf</td>\n",
       "      <td>http://sharkattackfile.net/spreadsheets/pdf_di...</td>\n",
       "      <td>http://sharkattackfile.net/spreadsheets/pdf_di...</td>\n",
       "      <td>2018.06.09</td>\n",
       "      <td>2018.06.09</td>\n",
       "      <td>6301.0</td>\n",
       "      <td>NaN</td>\n",
       "      <td>NaN</td>\n",
       "    </tr>\n",
       "    <tr>\n",
       "      <th>3</th>\n",
       "      <td>2018.06.08</td>\n",
       "      <td>08-Jun-2018</td>\n",
       "      <td>2018.0</td>\n",
       "      <td>Unprovoked</td>\n",
       "      <td>AUSTRALIA</td>\n",
       "      <td>New South Wales</td>\n",
       "      <td>Arrawarra Headland</td>\n",
       "      <td>Surfing</td>\n",
       "      <td>male</td>\n",
       "      <td>M</td>\n",
       "      <td>NaN</td>\n",
       "      <td>Minor injury to lower leg</td>\n",
       "      <td>N</td>\n",
       "      <td>NaN</td>\n",
       "      <td>2 m shark</td>\n",
       "      <td>B. Myatt, GSAF</td>\n",
       "      <td>2018.06.08-Arrawarra.pdf</td>\n",
       "      <td>http://sharkattackfile.net/spreadsheets/pdf_di...</td>\n",
       "      <td>http://sharkattackfile.net/spreadsheets/pdf_di...</td>\n",
       "      <td>2018.06.08</td>\n",
       "      <td>2018.06.08</td>\n",
       "      <td>6300.0</td>\n",
       "      <td>NaN</td>\n",
       "      <td>NaN</td>\n",
       "    </tr>\n",
       "    <tr>\n",
       "      <th>4</th>\n",
       "      <td>2018.06.04</td>\n",
       "      <td>04-Jun-2018</td>\n",
       "      <td>2018.0</td>\n",
       "      <td>Provoked</td>\n",
       "      <td>MEXICO</td>\n",
       "      <td>Colima</td>\n",
       "      <td>La Ticla</td>\n",
       "      <td>Free diving</td>\n",
       "      <td>Gustavo Ramos</td>\n",
       "      <td>M</td>\n",
       "      <td>NaN</td>\n",
       "      <td>Lacerations to leg &amp; hand shark PROVOKED INCIDENT</td>\n",
       "      <td>N</td>\n",
       "      <td>NaN</td>\n",
       "      <td>Tiger shark, 3m</td>\n",
       "      <td>A .Kipper</td>\n",
       "      <td>2018.06.04-Ramos.pdf</td>\n",
       "      <td>http://sharkattackfile.net/spreadsheets/pdf_di...</td>\n",
       "      <td>http://sharkattackfile.net/spreadsheets/pdf_di...</td>\n",
       "      <td>2018.06.04</td>\n",
       "      <td>2018.06.04</td>\n",
       "      <td>6299.0</td>\n",
       "      <td>NaN</td>\n",
       "      <td>NaN</td>\n",
       "    </tr>\n",
       "  </tbody>\n",
       "</table>\n",
       "</div>"
      ],
      "text/plain": [
       "  case_number         date    year        type    country             area  \\\n",
       "0  2018.06.25  25-Jun-2018  2018.0     Boating        USA       California   \n",
       "1  2018.06.18  18-Jun-2018  2018.0  Unprovoked        USA          Georgia   \n",
       "2  2018.06.09  09-Jun-2018  2018.0     Invalid        USA           Hawaii   \n",
       "3  2018.06.08  08-Jun-2018  2018.0  Unprovoked  AUSTRALIA  New South Wales   \n",
       "4  2018.06.04  04-Jun-2018  2018.0    Provoked     MEXICO           Colima   \n",
       "\n",
       "                         location     activity             name sex_  age  \\\n",
       "0     Oceanside, San Diego County     Paddling      Julie Wolfe    F   57   \n",
       "1  St. Simon Island, Glynn County     Standing  Adyson McNeely     F   11   \n",
       "2                    Habush, Oahu      Surfing      John Denges    M   48   \n",
       "3              Arrawarra Headland      Surfing             male    M  NaN   \n",
       "4                        La Ticla  Free diving   Gustavo Ramos     M  NaN   \n",
       "\n",
       "                                              injury fatal_yon           time  \\\n",
       "0  No injury to occupant, outrigger canoe and pad...         N          18h00   \n",
       "1                         Minor injury to left thigh         N  14h00  -15h00   \n",
       "2       Injury to left lower leg from surfboard skeg         N          07h45   \n",
       "3                          Minor injury to lower leg         N            NaN   \n",
       "4  Lacerations to leg & hand shark PROVOKED INCIDENT         N            NaN   \n",
       "\n",
       "          species_          investigator_or_source                       pdf  \\\n",
       "0      White shark                R. Collier, GSAF      2018.06.25-Wolfe.pdf   \n",
       "1              NaN  K.McMurray, TrackingSharks.com    2018.06.18-McNeely.pdf   \n",
       "2              NaN  K.McMurray, TrackingSharks.com     2018.06.09-Denges.pdf   \n",
       "3        2 m shark                  B. Myatt, GSAF  2018.06.08-Arrawarra.pdf   \n",
       "4  Tiger shark, 3m                       A .Kipper      2018.06.04-Ramos.pdf   \n",
       "\n",
       "                                        href_formula  \\\n",
       "0  http://sharkattackfile.net/spreadsheets/pdf_di...   \n",
       "1  http://sharkattackfile.net/spreadsheets/pdf_di...   \n",
       "2  http://sharkattackfile.net/spreadsheets/pdf_di...   \n",
       "3  http://sharkattackfile.net/spreadsheets/pdf_di...   \n",
       "4  http://sharkattackfile.net/spreadsheets/pdf_di...   \n",
       "\n",
       "                                                href case_number_1  \\\n",
       "0  http://sharkattackfile.net/spreadsheets/pdf_di...    2018.06.25   \n",
       "1  http://sharkattackfile.net/spreadsheets/pdf_di...    2018.06.18   \n",
       "2  http://sharkattackfile.net/spreadsheets/pdf_di...    2018.06.09   \n",
       "3  http://sharkattackfile.net/spreadsheets/pdf_di...    2018.06.08   \n",
       "4  http://sharkattackfile.net/spreadsheets/pdf_di...    2018.06.04   \n",
       "\n",
       "  case_number_2  original_order unnamed_22 unnamed_23  \n",
       "0    2018.06.25          6303.0        NaN        NaN  \n",
       "1    2018.06.18          6302.0        NaN        NaN  \n",
       "2    2018.06.09          6301.0        NaN        NaN  \n",
       "3    2018.06.08          6300.0        NaN        NaN  \n",
       "4    2018.06.04          6299.0        NaN        NaN  "
      ]
     },
     "execution_count": 5,
     "metadata": {},
     "output_type": "execute_result"
    }
   ],
   "source": [
    "df.columns=[c.lower().replace(' ', '_') for c in df.columns] \n",
    "df.columns=[c.lower().replace('.', '_') for c in df.columns] \n",
    "df.columns=[c.lower().replace(':', '') for c in df.columns] \n",
    "df.columns=[c.lower().replace('/', 'O') for c in df.columns] \n",
    "df.columns=[c.lower().replace('(', '') for c in df.columns] \n",
    "df.columns=[c.lower().replace(')', '') for c in df.columns] \n",
    "\n",
    "df.head()"
   ]
  },
  {
   "cell_type": "markdown",
   "id": "9317f641",
   "metadata": {},
   "source": [
    "# 2. Null Values"
   ]
  },
  {
   "cell_type": "code",
   "execution_count": 6,
   "id": "c7bec184",
   "metadata": {},
   "outputs": [
    {
     "data": {
      "text/plain": [
       "case_number               17021\n",
       "date                      19421\n",
       "year                      19423\n",
       "type                      19425\n",
       "country                   19471\n",
       "area                      19876\n",
       "location                  19961\n",
       "activity                  19965\n",
       "name                      19631\n",
       "sex_                      19986\n",
       "age                       22252\n",
       "injury                    19449\n",
       "fatal_yon                 19960\n",
       "time                      22775\n",
       "species_                  22259\n",
       "investigator_or_source    19438\n",
       "pdf                       19421\n",
       "href_formula              19422\n",
       "href                      19421\n",
       "case_number_1             19421\n",
       "case_number_2             19421\n",
       "original_order            19414\n",
       "unnamed_22                25722\n",
       "unnamed_23                25721\n",
       "dtype: int64"
      ]
     },
     "execution_count": 6,
     "metadata": {},
     "output_type": "execute_result"
    }
   ],
   "source": [
    "nan_cols=df.isnull().sum()\n",
    "nan_cols[nan_cols>0]     # all of the columns have null values."
   ]
  },
  {
   "cell_type": "code",
   "execution_count": 7,
   "id": "65be2b80",
   "metadata": {},
   "outputs": [],
   "source": [
    "df_orig=df.copy()"
   ]
  },
  {
   "cell_type": "code",
   "execution_count": 8,
   "id": "1be42031",
   "metadata": {},
   "outputs": [
    {
     "data": {
      "image/png": "[encoded data removed]",
      "text/plain": [
       "<Figure size 720x144 with 1 Axes>"
      ]
     },
     "metadata": {
      "needs_background": "light"
     },
     "output_type": "display_data"
    }
   ],
   "source": [
    "import pylab as plt\n",
    "import seaborn as sns\n",
    "plt.figure(figsize=(10,2))\n",
    "\n",
    "sns.heatmap(df.isna(), # mapa de calor\n",
    "            yticklabels=False,\n",
    "            cmap='viridis',\n",
    "            cbar=False)\n",
    "\n",
    "plt.show();"
   ]
  },
  {
   "cell_type": "code",
   "execution_count": 9,
   "id": "dcaa5d21",
   "metadata": {},
   "outputs": [],
   "source": [
    "df.fillna({'unnamed_22': 'Columna no contiene información', 'unnamed_23': 'Columna no contiene información'}, inplace=True)"
   ]
  },
  {
   "cell_type": "code",
   "execution_count": 10,
   "id": "b0ef200a",
   "metadata": {},
   "outputs": [
    {
     "data": {
      "text/html": [
       "<div>\n",
       "<style scoped>\n",
       "    .dataframe tbody tr th:only-of-type {\n",
       "        vertical-align: middle;\n",
       "    }\n",
       "\n",
       "    .dataframe tbody tr th {\n",
       "        vertical-align: top;\n",
       "    }\n",
       "\n",
       "    .dataframe thead th {\n",
       "        text-align: right;\n",
       "    }\n",
       "</style>\n",
       "<table border=\"1\" class=\"dataframe\">\n",
       "  <thead>\n",
       "    <tr style=\"text-align: right;\">\n",
       "      <th></th>\n",
       "      <th>case_number</th>\n",
       "      <th>date</th>\n",
       "      <th>year</th>\n",
       "      <th>type</th>\n",
       "      <th>country</th>\n",
       "      <th>area</th>\n",
       "      <th>location</th>\n",
       "      <th>activity</th>\n",
       "      <th>name</th>\n",
       "      <th>sex_</th>\n",
       "      <th>age</th>\n",
       "      <th>injury</th>\n",
       "      <th>fatal_yon</th>\n",
       "      <th>time</th>\n",
       "      <th>species_</th>\n",
       "      <th>investigator_or_source</th>\n",
       "      <th>pdf</th>\n",
       "      <th>href_formula</th>\n",
       "      <th>href</th>\n",
       "      <th>case_number_1</th>\n",
       "      <th>case_number_2</th>\n",
       "      <th>original_order</th>\n",
       "      <th>unnamed_22</th>\n",
       "      <th>unnamed_23</th>\n",
       "    </tr>\n",
       "  </thead>\n",
       "  <tbody>\n",
       "    <tr>\n",
       "      <th>4415</th>\n",
       "      <td>1952.03.30</td>\n",
       "      <td>30-Mar-1952</td>\n",
       "      <td>1952.0</td>\n",
       "      <td>Unprovoked</td>\n",
       "      <td>NETHERLANDS ANTILLES</td>\n",
       "      <td>Curacao</td>\n",
       "      <td>NaN</td>\n",
       "      <td>Went to aid of child being menaced by the shark</td>\n",
       "      <td>A.J. Eggink</td>\n",
       "      <td>M</td>\n",
       "      <td>NaN</td>\n",
       "      <td>Buttock bitten, tissue removed</td>\n",
       "      <td>N</td>\n",
       "      <td>NaN</td>\n",
       "      <td>Bull shark, 2.7 m [9'] was captured &amp; dragged ...</td>\n",
       "      <td>J. Randall, p.352 in Sharks &amp; Survival; H.D. B...</td>\n",
       "      <td>1952.03.30-Eggink.pdf</td>\n",
       "      <td>http://sharkattackfile.net/spreadsheets/pdf_di...</td>\n",
       "      <td>http://sharkattackfile.net/spreadsheets/pdf_di...</td>\n",
       "      <td>1952.03.30</td>\n",
       "      <td>1952.03.30</td>\n",
       "      <td>1888.0</td>\n",
       "      <td>Columna no contiene información</td>\n",
       "      <td>Teramo</td>\n",
       "    </tr>\n",
       "  </tbody>\n",
       "</table>\n",
       "</div>"
      ],
      "text/plain": [
       "     case_number         date    year        type               country  \\\n",
       "4415  1952.03.30  30-Mar-1952  1952.0  Unprovoked  NETHERLANDS ANTILLES   \n",
       "\n",
       "         area location                                         activity  \\\n",
       "4415  Curacao      NaN  Went to aid of child being menaced by the shark   \n",
       "\n",
       "             name sex_  age                          injury fatal_yon time  \\\n",
       "4415  A.J. Eggink    M  NaN  Buttock bitten, tissue removed         N  NaN   \n",
       "\n",
       "                                               species_  \\\n",
       "4415  Bull shark, 2.7 m [9'] was captured & dragged ...   \n",
       "\n",
       "                                 investigator_or_source  \\\n",
       "4415  J. Randall, p.352 in Sharks & Survival; H.D. B...   \n",
       "\n",
       "                        pdf  \\\n",
       "4415  1952.03.30-Eggink.pdf   \n",
       "\n",
       "                                           href_formula  \\\n",
       "4415  http://sharkattackfile.net/spreadsheets/pdf_di...   \n",
       "\n",
       "                                                   href case_number_1  \\\n",
       "4415  http://sharkattackfile.net/spreadsheets/pdf_di...    1952.03.30   \n",
       "\n",
       "     case_number_2  original_order                       unnamed_22 unnamed_23  \n",
       "4415    1952.03.30          1888.0  Columna no contiene información     Teramo  "
      ]
     },
     "execution_count": 10,
     "metadata": {},
     "output_type": "execute_result"
    }
   ],
   "source": [
    "df[df.unnamed_23.str.contains('Teramo')].head()"
   ]
  },
  {
   "cell_type": "code",
   "execution_count": 11,
   "id": "ca3c07af",
   "metadata": {},
   "outputs": [
    {
     "data": {
      "text/html": [
       "<div>\n",
       "<style scoped>\n",
       "    .dataframe tbody tr th:only-of-type {\n",
       "        vertical-align: middle;\n",
       "    }\n",
       "\n",
       "    .dataframe tbody tr th {\n",
       "        vertical-align: top;\n",
       "    }\n",
       "\n",
       "    .dataframe thead th {\n",
       "        text-align: right;\n",
       "    }\n",
       "</style>\n",
       "<table border=\"1\" class=\"dataframe\">\n",
       "  <thead>\n",
       "    <tr style=\"text-align: right;\">\n",
       "      <th></th>\n",
       "      <th>case_number</th>\n",
       "      <th>date</th>\n",
       "      <th>year</th>\n",
       "      <th>type</th>\n",
       "      <th>country</th>\n",
       "      <th>area</th>\n",
       "      <th>location</th>\n",
       "      <th>activity</th>\n",
       "      <th>name</th>\n",
       "      <th>sex_</th>\n",
       "      <th>age</th>\n",
       "      <th>injury</th>\n",
       "      <th>fatal_yon</th>\n",
       "      <th>time</th>\n",
       "      <th>species_</th>\n",
       "      <th>investigator_or_source</th>\n",
       "      <th>pdf</th>\n",
       "      <th>href_formula</th>\n",
       "      <th>href</th>\n",
       "      <th>case_number_1</th>\n",
       "      <th>case_number_2</th>\n",
       "      <th>original_order</th>\n",
       "      <th>unnamed_22</th>\n",
       "      <th>unnamed_23</th>\n",
       "    </tr>\n",
       "  </thead>\n",
       "  <tbody>\n",
       "    <tr>\n",
       "      <th>5840</th>\n",
       "      <td>1878.09.14.R</td>\n",
       "      <td>Reported 14-Sep-1878</td>\n",
       "      <td>1878.0</td>\n",
       "      <td>Provoked</td>\n",
       "      <td>USA</td>\n",
       "      <td>Connecticut</td>\n",
       "      <td>Branford, New Haven County</td>\n",
       "      <td>Fishing</td>\n",
       "      <td>Captain Pattison</td>\n",
       "      <td>M</td>\n",
       "      <td>NaN</td>\n",
       "      <td>Leg bitten by netted shark PROVOKED INCIDENT</td>\n",
       "      <td>N</td>\n",
       "      <td>NaN</td>\n",
       "      <td>NaN</td>\n",
       "      <td>St. Joseph Herald, 9/14/1878</td>\n",
       "      <td>1878.09.14.R-Pattison.pdf</td>\n",
       "      <td>http://sharkattackfile.net/spreadsheets/pdf_di...</td>\n",
       "      <td>http://sharkattackfile.net/spreadsheets/pdf_di...</td>\n",
       "      <td>1878.09.14.R</td>\n",
       "      <td>1878.09.14.R</td>\n",
       "      <td>463.0</td>\n",
       "      <td>Columna no contiene información</td>\n",
       "      <td>change filename</td>\n",
       "    </tr>\n",
       "  </tbody>\n",
       "</table>\n",
       "</div>"
      ],
      "text/plain": [
       "       case_number                  date    year      type country  \\\n",
       "5840  1878.09.14.R  Reported 14-Sep-1878  1878.0  Provoked     USA   \n",
       "\n",
       "             area                    location activity              name sex_  \\\n",
       "5840  Connecticut  Branford, New Haven County  Fishing  Captain Pattison    M   \n",
       "\n",
       "      age                                        injury fatal_yon time  \\\n",
       "5840  NaN  Leg bitten by netted shark PROVOKED INCIDENT         N  NaN   \n",
       "\n",
       "     species_        investigator_or_source                        pdf  \\\n",
       "5840      NaN  St. Joseph Herald, 9/14/1878  1878.09.14.R-Pattison.pdf   \n",
       "\n",
       "                                           href_formula  \\\n",
       "5840  http://sharkattackfile.net/spreadsheets/pdf_di...   \n",
       "\n",
       "                                                   href case_number_1  \\\n",
       "5840  http://sharkattackfile.net/spreadsheets/pdf_di...  1878.09.14.R   \n",
       "\n",
       "     case_number_2  original_order                       unnamed_22  \\\n",
       "5840  1878.09.14.R           463.0  Columna no contiene información   \n",
       "\n",
       "           unnamed_23  \n",
       "5840  change filename  "
      ]
     },
     "execution_count": 11,
     "metadata": {},
     "output_type": "execute_result"
    }
   ],
   "source": [
    "df[df.unnamed_23.str.contains('change filename')].head()"
   ]
  },
  {
   "cell_type": "code",
   "execution_count": 12,
   "id": "d461e1b5",
   "metadata": {},
   "outputs": [
    {
     "data": {
      "text/html": [
       "<div>\n",
       "<style scoped>\n",
       "    .dataframe tbody tr th:only-of-type {\n",
       "        vertical-align: middle;\n",
       "    }\n",
       "\n",
       "    .dataframe tbody tr th {\n",
       "        vertical-align: top;\n",
       "    }\n",
       "\n",
       "    .dataframe thead th {\n",
       "        text-align: right;\n",
       "    }\n",
       "</style>\n",
       "<table border=\"1\" class=\"dataframe\">\n",
       "  <thead>\n",
       "    <tr style=\"text-align: right;\">\n",
       "      <th></th>\n",
       "      <th>case_number</th>\n",
       "      <th>date</th>\n",
       "      <th>year</th>\n",
       "      <th>type</th>\n",
       "      <th>country</th>\n",
       "      <th>area</th>\n",
       "      <th>location</th>\n",
       "      <th>activity</th>\n",
       "      <th>name</th>\n",
       "      <th>sex_</th>\n",
       "      <th>age</th>\n",
       "      <th>injury</th>\n",
       "      <th>fatal_yon</th>\n",
       "      <th>time</th>\n",
       "      <th>species_</th>\n",
       "      <th>investigator_or_source</th>\n",
       "      <th>pdf</th>\n",
       "      <th>href_formula</th>\n",
       "      <th>href</th>\n",
       "      <th>case_number_1</th>\n",
       "      <th>case_number_2</th>\n",
       "      <th>original_order</th>\n",
       "      <th>unnamed_22</th>\n",
       "      <th>unnamed_23</th>\n",
       "    </tr>\n",
       "  </thead>\n",
       "  <tbody>\n",
       "    <tr>\n",
       "      <th>6309</th>\n",
       "      <td>0</td>\n",
       "      <td>NaN</td>\n",
       "      <td>NaN</td>\n",
       "      <td>NaN</td>\n",
       "      <td>NaN</td>\n",
       "      <td>NaN</td>\n",
       "      <td>NaN</td>\n",
       "      <td>NaN</td>\n",
       "      <td>NaN</td>\n",
       "      <td>NaN</td>\n",
       "      <td>NaN</td>\n",
       "      <td>NaN</td>\n",
       "      <td>NaN</td>\n",
       "      <td>NaN</td>\n",
       "      <td>NaN</td>\n",
       "      <td>NaN</td>\n",
       "      <td>NaN</td>\n",
       "      <td>NaN</td>\n",
       "      <td>NaN</td>\n",
       "      <td>NaN</td>\n",
       "      <td>NaN</td>\n",
       "      <td>NaN</td>\n",
       "      <td>Columna no contiene información</td>\n",
       "      <td>Columna no contiene información</td>\n",
       "    </tr>\n",
       "    <tr>\n",
       "      <th>6310</th>\n",
       "      <td>0</td>\n",
       "      <td>NaN</td>\n",
       "      <td>NaN</td>\n",
       "      <td>NaN</td>\n",
       "      <td>NaN</td>\n",
       "      <td>NaN</td>\n",
       "      <td>NaN</td>\n",
       "      <td>NaN</td>\n",
       "      <td>NaN</td>\n",
       "      <td>NaN</td>\n",
       "      <td>NaN</td>\n",
       "      <td>NaN</td>\n",
       "      <td>NaN</td>\n",
       "      <td>NaN</td>\n",
       "      <td>NaN</td>\n",
       "      <td>NaN</td>\n",
       "      <td>NaN</td>\n",
       "      <td>NaN</td>\n",
       "      <td>NaN</td>\n",
       "      <td>NaN</td>\n",
       "      <td>NaN</td>\n",
       "      <td>NaN</td>\n",
       "      <td>Columna no contiene información</td>\n",
       "      <td>Columna no contiene información</td>\n",
       "    </tr>\n",
       "    <tr>\n",
       "      <th>6311</th>\n",
       "      <td>0</td>\n",
       "      <td>NaN</td>\n",
       "      <td>NaN</td>\n",
       "      <td>NaN</td>\n",
       "      <td>NaN</td>\n",
       "      <td>NaN</td>\n",
       "      <td>NaN</td>\n",
       "      <td>NaN</td>\n",
       "      <td>NaN</td>\n",
       "      <td>NaN</td>\n",
       "      <td>NaN</td>\n",
       "      <td>NaN</td>\n",
       "      <td>NaN</td>\n",
       "      <td>NaN</td>\n",
       "      <td>NaN</td>\n",
       "      <td>NaN</td>\n",
       "      <td>NaN</td>\n",
       "      <td>NaN</td>\n",
       "      <td>NaN</td>\n",
       "      <td>NaN</td>\n",
       "      <td>NaN</td>\n",
       "      <td>NaN</td>\n",
       "      <td>Columna no contiene información</td>\n",
       "      <td>Columna no contiene información</td>\n",
       "    </tr>\n",
       "    <tr>\n",
       "      <th>6312</th>\n",
       "      <td>0</td>\n",
       "      <td>NaN</td>\n",
       "      <td>NaN</td>\n",
       "      <td>NaN</td>\n",
       "      <td>NaN</td>\n",
       "      <td>NaN</td>\n",
       "      <td>NaN</td>\n",
       "      <td>NaN</td>\n",
       "      <td>NaN</td>\n",
       "      <td>NaN</td>\n",
       "      <td>NaN</td>\n",
       "      <td>NaN</td>\n",
       "      <td>NaN</td>\n",
       "      <td>NaN</td>\n",
       "      <td>NaN</td>\n",
       "      <td>NaN</td>\n",
       "      <td>NaN</td>\n",
       "      <td>NaN</td>\n",
       "      <td>NaN</td>\n",
       "      <td>NaN</td>\n",
       "      <td>NaN</td>\n",
       "      <td>NaN</td>\n",
       "      <td>Columna no contiene información</td>\n",
       "      <td>Columna no contiene información</td>\n",
       "    </tr>\n",
       "    <tr>\n",
       "      <th>6313</th>\n",
       "      <td>0</td>\n",
       "      <td>NaN</td>\n",
       "      <td>NaN</td>\n",
       "      <td>NaN</td>\n",
       "      <td>NaN</td>\n",
       "      <td>NaN</td>\n",
       "      <td>NaN</td>\n",
       "      <td>NaN</td>\n",
       "      <td>NaN</td>\n",
       "      <td>NaN</td>\n",
       "      <td>NaN</td>\n",
       "      <td>NaN</td>\n",
       "      <td>NaN</td>\n",
       "      <td>NaN</td>\n",
       "      <td>NaN</td>\n",
       "      <td>NaN</td>\n",
       "      <td>NaN</td>\n",
       "      <td>NaN</td>\n",
       "      <td>NaN</td>\n",
       "      <td>NaN</td>\n",
       "      <td>NaN</td>\n",
       "      <td>NaN</td>\n",
       "      <td>Columna no contiene información</td>\n",
       "      <td>Columna no contiene información</td>\n",
       "    </tr>\n",
       "    <tr>\n",
       "      <th>...</th>\n",
       "      <td>...</td>\n",
       "      <td>...</td>\n",
       "      <td>...</td>\n",
       "      <td>...</td>\n",
       "      <td>...</td>\n",
       "      <td>...</td>\n",
       "      <td>...</td>\n",
       "      <td>...</td>\n",
       "      <td>...</td>\n",
       "      <td>...</td>\n",
       "      <td>...</td>\n",
       "      <td>...</td>\n",
       "      <td>...</td>\n",
       "      <td>...</td>\n",
       "      <td>...</td>\n",
       "      <td>...</td>\n",
       "      <td>...</td>\n",
       "      <td>...</td>\n",
       "      <td>...</td>\n",
       "      <td>...</td>\n",
       "      <td>...</td>\n",
       "      <td>...</td>\n",
       "      <td>...</td>\n",
       "      <td>...</td>\n",
       "    </tr>\n",
       "    <tr>\n",
       "      <th>25718</th>\n",
       "      <td>NaN</td>\n",
       "      <td>NaN</td>\n",
       "      <td>NaN</td>\n",
       "      <td>NaN</td>\n",
       "      <td>NaN</td>\n",
       "      <td>NaN</td>\n",
       "      <td>NaN</td>\n",
       "      <td>NaN</td>\n",
       "      <td>NaN</td>\n",
       "      <td>NaN</td>\n",
       "      <td>NaN</td>\n",
       "      <td>NaN</td>\n",
       "      <td>NaN</td>\n",
       "      <td>NaN</td>\n",
       "      <td>NaN</td>\n",
       "      <td>NaN</td>\n",
       "      <td>NaN</td>\n",
       "      <td>NaN</td>\n",
       "      <td>NaN</td>\n",
       "      <td>NaN</td>\n",
       "      <td>NaN</td>\n",
       "      <td>NaN</td>\n",
       "      <td>Columna no contiene información</td>\n",
       "      <td>Columna no contiene información</td>\n",
       "    </tr>\n",
       "    <tr>\n",
       "      <th>25719</th>\n",
       "      <td>NaN</td>\n",
       "      <td>NaN</td>\n",
       "      <td>NaN</td>\n",
       "      <td>NaN</td>\n",
       "      <td>NaN</td>\n",
       "      <td>NaN</td>\n",
       "      <td>NaN</td>\n",
       "      <td>NaN</td>\n",
       "      <td>NaN</td>\n",
       "      <td>NaN</td>\n",
       "      <td>NaN</td>\n",
       "      <td>NaN</td>\n",
       "      <td>NaN</td>\n",
       "      <td>NaN</td>\n",
       "      <td>NaN</td>\n",
       "      <td>NaN</td>\n",
       "      <td>NaN</td>\n",
       "      <td>NaN</td>\n",
       "      <td>NaN</td>\n",
       "      <td>NaN</td>\n",
       "      <td>NaN</td>\n",
       "      <td>NaN</td>\n",
       "      <td>Columna no contiene información</td>\n",
       "      <td>Columna no contiene información</td>\n",
       "    </tr>\n",
       "    <tr>\n",
       "      <th>25720</th>\n",
       "      <td>NaN</td>\n",
       "      <td>NaN</td>\n",
       "      <td>NaN</td>\n",
       "      <td>NaN</td>\n",
       "      <td>NaN</td>\n",
       "      <td>NaN</td>\n",
       "      <td>NaN</td>\n",
       "      <td>NaN</td>\n",
       "      <td>NaN</td>\n",
       "      <td>NaN</td>\n",
       "      <td>NaN</td>\n",
       "      <td>NaN</td>\n",
       "      <td>NaN</td>\n",
       "      <td>NaN</td>\n",
       "      <td>NaN</td>\n",
       "      <td>NaN</td>\n",
       "      <td>NaN</td>\n",
       "      <td>NaN</td>\n",
       "      <td>NaN</td>\n",
       "      <td>NaN</td>\n",
       "      <td>NaN</td>\n",
       "      <td>NaN</td>\n",
       "      <td>Columna no contiene información</td>\n",
       "      <td>Columna no contiene información</td>\n",
       "    </tr>\n",
       "    <tr>\n",
       "      <th>25721</th>\n",
       "      <td>NaN</td>\n",
       "      <td>NaN</td>\n",
       "      <td>NaN</td>\n",
       "      <td>NaN</td>\n",
       "      <td>NaN</td>\n",
       "      <td>NaN</td>\n",
       "      <td>NaN</td>\n",
       "      <td>NaN</td>\n",
       "      <td>NaN</td>\n",
       "      <td>NaN</td>\n",
       "      <td>NaN</td>\n",
       "      <td>NaN</td>\n",
       "      <td>NaN</td>\n",
       "      <td>NaN</td>\n",
       "      <td>NaN</td>\n",
       "      <td>NaN</td>\n",
       "      <td>NaN</td>\n",
       "      <td>NaN</td>\n",
       "      <td>NaN</td>\n",
       "      <td>NaN</td>\n",
       "      <td>NaN</td>\n",
       "      <td>NaN</td>\n",
       "      <td>Columna no contiene información</td>\n",
       "      <td>Columna no contiene información</td>\n",
       "    </tr>\n",
       "    <tr>\n",
       "      <th>25722</th>\n",
       "      <td>xx</td>\n",
       "      <td>NaN</td>\n",
       "      <td>NaN</td>\n",
       "      <td>NaN</td>\n",
       "      <td>NaN</td>\n",
       "      <td>NaN</td>\n",
       "      <td>NaN</td>\n",
       "      <td>NaN</td>\n",
       "      <td>NaN</td>\n",
       "      <td>NaN</td>\n",
       "      <td>NaN</td>\n",
       "      <td>NaN</td>\n",
       "      <td>NaN</td>\n",
       "      <td>NaN</td>\n",
       "      <td>NaN</td>\n",
       "      <td>NaN</td>\n",
       "      <td>NaN</td>\n",
       "      <td>NaN</td>\n",
       "      <td>NaN</td>\n",
       "      <td>NaN</td>\n",
       "      <td>NaN</td>\n",
       "      <td>NaN</td>\n",
       "      <td>Columna no contiene información</td>\n",
       "      <td>Columna no contiene información</td>\n",
       "    </tr>\n",
       "  </tbody>\n",
       "</table>\n",
       "<p>19414 rows × 24 columns</p>\n",
       "</div>"
      ],
      "text/plain": [
       "      case_number date  year type country area location activity name sex_  \\\n",
       "6309            0  NaN   NaN  NaN     NaN  NaN      NaN      NaN  NaN  NaN   \n",
       "6310            0  NaN   NaN  NaN     NaN  NaN      NaN      NaN  NaN  NaN   \n",
       "6311            0  NaN   NaN  NaN     NaN  NaN      NaN      NaN  NaN  NaN   \n",
       "6312            0  NaN   NaN  NaN     NaN  NaN      NaN      NaN  NaN  NaN   \n",
       "6313            0  NaN   NaN  NaN     NaN  NaN      NaN      NaN  NaN  NaN   \n",
       "...           ...  ...   ...  ...     ...  ...      ...      ...  ...  ...   \n",
       "25718         NaN  NaN   NaN  NaN     NaN  NaN      NaN      NaN  NaN  NaN   \n",
       "25719         NaN  NaN   NaN  NaN     NaN  NaN      NaN      NaN  NaN  NaN   \n",
       "25720         NaN  NaN   NaN  NaN     NaN  NaN      NaN      NaN  NaN  NaN   \n",
       "25721         NaN  NaN   NaN  NaN     NaN  NaN      NaN      NaN  NaN  NaN   \n",
       "25722          xx  NaN   NaN  NaN     NaN  NaN      NaN      NaN  NaN  NaN   \n",
       "\n",
       "       age injury fatal_yon time species_ investigator_or_source  pdf  \\\n",
       "6309   NaN    NaN       NaN  NaN      NaN                    NaN  NaN   \n",
       "6310   NaN    NaN       NaN  NaN      NaN                    NaN  NaN   \n",
       "6311   NaN    NaN       NaN  NaN      NaN                    NaN  NaN   \n",
       "6312   NaN    NaN       NaN  NaN      NaN                    NaN  NaN   \n",
       "6313   NaN    NaN       NaN  NaN      NaN                    NaN  NaN   \n",
       "...    ...    ...       ...  ...      ...                    ...  ...   \n",
       "25718  NaN    NaN       NaN  NaN      NaN                    NaN  NaN   \n",
       "25719  NaN    NaN       NaN  NaN      NaN                    NaN  NaN   \n",
       "25720  NaN    NaN       NaN  NaN      NaN                    NaN  NaN   \n",
       "25721  NaN    NaN       NaN  NaN      NaN                    NaN  NaN   \n",
       "25722  NaN    NaN       NaN  NaN      NaN                    NaN  NaN   \n",
       "\n",
       "      href_formula href case_number_1 case_number_2  original_order  \\\n",
       "6309           NaN  NaN           NaN           NaN             NaN   \n",
       "6310           NaN  NaN           NaN           NaN             NaN   \n",
       "6311           NaN  NaN           NaN           NaN             NaN   \n",
       "6312           NaN  NaN           NaN           NaN             NaN   \n",
       "6313           NaN  NaN           NaN           NaN             NaN   \n",
       "...            ...  ...           ...           ...             ...   \n",
       "25718          NaN  NaN           NaN           NaN             NaN   \n",
       "25719          NaN  NaN           NaN           NaN             NaN   \n",
       "25720          NaN  NaN           NaN           NaN             NaN   \n",
       "25721          NaN  NaN           NaN           NaN             NaN   \n",
       "25722          NaN  NaN           NaN           NaN             NaN   \n",
       "\n",
       "                            unnamed_22                       unnamed_23  \n",
       "6309   Columna no contiene información  Columna no contiene información  \n",
       "6310   Columna no contiene información  Columna no contiene información  \n",
       "6311   Columna no contiene información  Columna no contiene información  \n",
       "6312   Columna no contiene información  Columna no contiene información  \n",
       "6313   Columna no contiene información  Columna no contiene información  \n",
       "...                                ...                              ...  \n",
       "25718  Columna no contiene información  Columna no contiene información  \n",
       "25719  Columna no contiene información  Columna no contiene información  \n",
       "25720  Columna no contiene información  Columna no contiene información  \n",
       "25721  Columna no contiene información  Columna no contiene información  \n",
       "25722  Columna no contiene información  Columna no contiene información  \n",
       "\n",
       "[19414 rows x 24 columns]"
      ]
     },
     "execution_count": 12,
     "metadata": {},
     "output_type": "execute_result"
    }
   ],
   "source": [
    "qty_of_nuls = 20\n",
    "df.iloc[df[(df.isnull().sum(axis=1)>qty_of_nuls)].index]"
   ]
  },
  {
   "cell_type": "code",
   "execution_count": 13,
   "id": "aafa1d14",
   "metadata": {},
   "outputs": [],
   "source": [
    "df = df.drop(df[df.isnull().sum(axis=1) > 20].index)"
   ]
  },
  {
   "cell_type": "code",
   "execution_count": 14,
   "id": "981f8466",
   "metadata": {},
   "outputs": [
    {
     "data": {
      "text/plain": [
       "(6309, 24)"
      ]
     },
     "execution_count": 14,
     "metadata": {},
     "output_type": "execute_result"
    }
   ],
   "source": [
    "df.shape"
   ]
  },
  {
   "cell_type": "code",
   "execution_count": 15,
   "id": "07cea245",
   "metadata": {},
   "outputs": [
    {
     "data": {
      "image/png": "[encoded data removed]",
      "text/plain": [
       "<Figure size 720x144 with 1 Axes>"
      ]
     },
     "metadata": {
      "needs_background": "light"
     },
     "output_type": "display_data"
    }
   ],
   "source": [
    "plt.figure(figsize=(10,2))\n",
    "\n",
    "sns.heatmap(df.isna(), # mapa de calor\n",
    "            yticklabels=False,\n",
    "            cmap='viridis',\n",
    "            cbar=False)\n",
    "\n",
    "plt.show();"
   ]
  },
  {
   "cell_type": "code",
   "execution_count": 16,
   "id": "4d807acc",
   "metadata": {},
   "outputs": [],
   "source": [
    "index_yon=df[df['fatal_yon'].isna()].index\n",
    "df.drop(index=index_yon,inplace=True)"
   ]
  },
  {
   "cell_type": "code",
   "execution_count": 17,
   "id": "5094eed5",
   "metadata": {},
   "outputs": [],
   "source": [
    "index_species_=df[df['species_'].isna()].index\n",
    "df.drop(index=index_species_,inplace=True)"
   ]
  },
  {
   "cell_type": "code",
   "execution_count": 18,
   "id": "a04470c8",
   "metadata": {},
   "outputs": [],
   "source": [
    "index_sex_=df[df['sex_'].isna()].index\n",
    "df.drop(index=index_sex_,inplace=True)"
   ]
  },
  {
   "cell_type": "code",
   "execution_count": 19,
   "id": "6f07de2b",
   "metadata": {},
   "outputs": [],
   "source": [
    "index_activity=df[df['activity'].isna()].index\n",
    "df.drop(index=index_activity,inplace=True)"
   ]
  },
  {
   "cell_type": "code",
   "execution_count": 20,
   "id": "7839af8c",
   "metadata": {},
   "outputs": [
    {
     "data": {
      "text/plain": [
       "(2628, 24)"
      ]
     },
     "execution_count": 20,
     "metadata": {},
     "output_type": "execute_result"
    }
   ],
   "source": [
    "df.shape"
   ]
  },
  {
   "cell_type": "code",
   "execution_count": 21,
   "id": "c6e88572",
   "metadata": {},
   "outputs": [
    {
     "data": {
      "image/png": "[encoded data removed]",
      "text/plain": [
       "<Figure size 720x144 with 1 Axes>"
      ]
     },
     "metadata": {
      "needs_background": "light"
     },
     "output_type": "display_data"
    }
   ],
   "source": [
    "plt.figure(figsize=(10,2))\n",
    "\n",
    "sns.heatmap(df.isna(), # mapa de calor\n",
    "            yticklabels=False,\n",
    "            cmap='viridis',\n",
    "            cbar=False)\n",
    "\n",
    "plt.show();"
   ]
  },
  {
   "cell_type": "code",
   "execution_count": 22,
   "id": "946989e9",
   "metadata": {},
   "outputs": [
    {
     "data": {
      "text/plain": [
       "country                     5\n",
       "area                       90\n",
       "location                   99\n",
       "name                       12\n",
       "age                       698\n",
       "time                      941\n",
       "investigator_or_source      5\n",
       "dtype: int64"
      ]
     },
     "execution_count": 22,
     "metadata": {},
     "output_type": "execute_result"
    }
   ],
   "source": [
    "nan_cols=df.isnull().sum()\n",
    "nan_cols[nan_cols>0] "
   ]
  },
  {
   "cell_type": "code",
   "execution_count": 23,
   "id": "af7bee9d",
   "metadata": {},
   "outputs": [],
   "source": [
    "df.fillna({'country':'unknown','area':'unknown','location':'unknown','name':'unknown','age':0, 'time':'unknown','investigator_or_source':'unknown',}, inplace=True)"
   ]
  },
  {
   "cell_type": "code",
   "execution_count": 24,
   "id": "1f695003",
   "metadata": {},
   "outputs": [
    {
     "data": {
      "text/plain": [
       "Series([], dtype: int64)"
      ]
     },
     "execution_count": 24,
     "metadata": {},
     "output_type": "execute_result"
    }
   ],
   "source": [
    "nan_cols=df.isnull().sum()\n",
    "nan_cols[nan_cols>0] "
   ]
  },
  {
   "cell_type": "code",
   "execution_count": 25,
   "id": "06a5f702",
   "metadata": {},
   "outputs": [
    {
     "data": {
      "text/html": [
       "<div>\n",
       "<style scoped>\n",
       "    .dataframe tbody tr th:only-of-type {\n",
       "        vertical-align: middle;\n",
       "    }\n",
       "\n",
       "    .dataframe tbody tr th {\n",
       "        vertical-align: top;\n",
       "    }\n",
       "\n",
       "    .dataframe thead th {\n",
       "        text-align: right;\n",
       "    }\n",
       "</style>\n",
       "<table border=\"1\" class=\"dataframe\">\n",
       "  <thead>\n",
       "    <tr style=\"text-align: right;\">\n",
       "      <th></th>\n",
       "      <th>case_number</th>\n",
       "      <th>date</th>\n",
       "      <th>year</th>\n",
       "      <th>type</th>\n",
       "      <th>country</th>\n",
       "      <th>area</th>\n",
       "      <th>location</th>\n",
       "      <th>activity</th>\n",
       "      <th>name</th>\n",
       "      <th>sex_</th>\n",
       "      <th>age</th>\n",
       "      <th>injury</th>\n",
       "      <th>fatal_yon</th>\n",
       "      <th>time</th>\n",
       "      <th>species_</th>\n",
       "      <th>investigator_or_source</th>\n",
       "      <th>pdf</th>\n",
       "      <th>href_formula</th>\n",
       "      <th>href</th>\n",
       "      <th>case_number_1</th>\n",
       "      <th>case_number_2</th>\n",
       "      <th>original_order</th>\n",
       "      <th>unnamed_22</th>\n",
       "      <th>unnamed_23</th>\n",
       "    </tr>\n",
       "  </thead>\n",
       "  <tbody>\n",
       "    <tr>\n",
       "      <th>0</th>\n",
       "      <td>2018.06.25</td>\n",
       "      <td>25-Jun-2018</td>\n",
       "      <td>2018.0</td>\n",
       "      <td>Boating</td>\n",
       "      <td>USA</td>\n",
       "      <td>California</td>\n",
       "      <td>Oceanside, San Diego County</td>\n",
       "      <td>Paddling</td>\n",
       "      <td>Julie Wolfe</td>\n",
       "      <td>F</td>\n",
       "      <td>57</td>\n",
       "      <td>No injury to occupant, outrigger canoe and pad...</td>\n",
       "      <td>N</td>\n",
       "      <td>18h00</td>\n",
       "      <td>White shark</td>\n",
       "      <td>R. Collier, GSAF</td>\n",
       "      <td>2018.06.25-Wolfe.pdf</td>\n",
       "      <td>http://sharkattackfile.net/spreadsheets/pdf_di...</td>\n",
       "      <td>http://sharkattackfile.net/spreadsheets/pdf_di...</td>\n",
       "      <td>2018.06.25</td>\n",
       "      <td>2018.06.25</td>\n",
       "      <td>6303.0</td>\n",
       "      <td>Columna no contiene información</td>\n",
       "      <td>Columna no contiene información</td>\n",
       "    </tr>\n",
       "    <tr>\n",
       "      <th>3</th>\n",
       "      <td>2018.06.08</td>\n",
       "      <td>08-Jun-2018</td>\n",
       "      <td>2018.0</td>\n",
       "      <td>Unprovoked</td>\n",
       "      <td>AUSTRALIA</td>\n",
       "      <td>New South Wales</td>\n",
       "      <td>Arrawarra Headland</td>\n",
       "      <td>Surfing</td>\n",
       "      <td>male</td>\n",
       "      <td>M</td>\n",
       "      <td>0</td>\n",
       "      <td>Minor injury to lower leg</td>\n",
       "      <td>N</td>\n",
       "      <td>unknown</td>\n",
       "      <td>2 m shark</td>\n",
       "      <td>B. Myatt, GSAF</td>\n",
       "      <td>2018.06.08-Arrawarra.pdf</td>\n",
       "      <td>http://sharkattackfile.net/spreadsheets/pdf_di...</td>\n",
       "      <td>http://sharkattackfile.net/spreadsheets/pdf_di...</td>\n",
       "      <td>2018.06.08</td>\n",
       "      <td>2018.06.08</td>\n",
       "      <td>6300.0</td>\n",
       "      <td>Columna no contiene información</td>\n",
       "      <td>Columna no contiene información</td>\n",
       "    </tr>\n",
       "    <tr>\n",
       "      <th>4</th>\n",
       "      <td>2018.06.04</td>\n",
       "      <td>04-Jun-2018</td>\n",
       "      <td>2018.0</td>\n",
       "      <td>Provoked</td>\n",
       "      <td>MEXICO</td>\n",
       "      <td>Colima</td>\n",
       "      <td>La Ticla</td>\n",
       "      <td>Free diving</td>\n",
       "      <td>Gustavo Ramos</td>\n",
       "      <td>M</td>\n",
       "      <td>0</td>\n",
       "      <td>Lacerations to leg &amp; hand shark PROVOKED INCIDENT</td>\n",
       "      <td>N</td>\n",
       "      <td>unknown</td>\n",
       "      <td>Tiger shark, 3m</td>\n",
       "      <td>A .Kipper</td>\n",
       "      <td>2018.06.04-Ramos.pdf</td>\n",
       "      <td>http://sharkattackfile.net/spreadsheets/pdf_di...</td>\n",
       "      <td>http://sharkattackfile.net/spreadsheets/pdf_di...</td>\n",
       "      <td>2018.06.04</td>\n",
       "      <td>2018.06.04</td>\n",
       "      <td>6299.0</td>\n",
       "      <td>Columna no contiene información</td>\n",
       "      <td>Columna no contiene información</td>\n",
       "    </tr>\n",
       "    <tr>\n",
       "      <th>6</th>\n",
       "      <td>2018.06.03.a</td>\n",
       "      <td>03-Jun-2018</td>\n",
       "      <td>2018.0</td>\n",
       "      <td>Unprovoked</td>\n",
       "      <td>BRAZIL</td>\n",
       "      <td>Pernambuco</td>\n",
       "      <td>Piedade Beach, Recife</td>\n",
       "      <td>Swimming</td>\n",
       "      <td>Jose Ernesto da Silva</td>\n",
       "      <td>M</td>\n",
       "      <td>18</td>\n",
       "      <td>FATAL</td>\n",
       "      <td>Y</td>\n",
       "      <td>Late afternoon</td>\n",
       "      <td>Tiger shark</td>\n",
       "      <td>Diario de Pernambuco, 6/4/2018</td>\n",
       "      <td>2018.06.03.a-daSilva.pdf</td>\n",
       "      <td>http://sharkattackfile.net/spreadsheets/pdf_di...</td>\n",
       "      <td>http://sharkattackfile.net/spreadsheets/pdf_di...</td>\n",
       "      <td>2018.06.03.a</td>\n",
       "      <td>2018.06.03.a</td>\n",
       "      <td>6297.0</td>\n",
       "      <td>Columna no contiene información</td>\n",
       "      <td>Columna no contiene información</td>\n",
       "    </tr>\n",
       "    <tr>\n",
       "      <th>7</th>\n",
       "      <td>2018.05.27</td>\n",
       "      <td>27-May-2018</td>\n",
       "      <td>2018.0</td>\n",
       "      <td>Unprovoked</td>\n",
       "      <td>USA</td>\n",
       "      <td>Florida</td>\n",
       "      <td>Lighhouse Point Park, Ponce Inlet, Volusia County</td>\n",
       "      <td>Fishing</td>\n",
       "      <td>male</td>\n",
       "      <td>M</td>\n",
       "      <td>52</td>\n",
       "      <td>Minor injury to foot. PROVOKED INCIDENT</td>\n",
       "      <td>N</td>\n",
       "      <td>unknown</td>\n",
       "      <td>Lemon shark, 3'</td>\n",
       "      <td>K. McMurray, TrackingSharks.com</td>\n",
       "      <td>2018.05.27-Ponce.pdf</td>\n",
       "      <td>http://sharkattackfile.net/spreadsheets/pdf_di...</td>\n",
       "      <td>http://sharkattackfile.net/spreadsheets/pdf_di...</td>\n",
       "      <td>2018.05.27</td>\n",
       "      <td>2018.05.27</td>\n",
       "      <td>6296.0</td>\n",
       "      <td>Columna no contiene información</td>\n",
       "      <td>Columna no contiene información</td>\n",
       "    </tr>\n",
       "  </tbody>\n",
       "</table>\n",
       "</div>"
      ],
      "text/plain": [
       "    case_number         date    year        type    country             area  \\\n",
       "0    2018.06.25  25-Jun-2018  2018.0     Boating        USA       California   \n",
       "3    2018.06.08  08-Jun-2018  2018.0  Unprovoked  AUSTRALIA  New South Wales   \n",
       "4    2018.06.04  04-Jun-2018  2018.0    Provoked     MEXICO           Colima   \n",
       "6  2018.06.03.a  03-Jun-2018  2018.0  Unprovoked     BRAZIL       Pernambuco   \n",
       "7    2018.05.27  27-May-2018  2018.0  Unprovoked        USA          Florida   \n",
       "\n",
       "                                            location     activity  \\\n",
       "0                        Oceanside, San Diego County     Paddling   \n",
       "3                                 Arrawarra Headland      Surfing   \n",
       "4                                           La Ticla  Free diving   \n",
       "6                              Piedade Beach, Recife     Swimming   \n",
       "7  Lighhouse Point Park, Ponce Inlet, Volusia County      Fishing   \n",
       "\n",
       "                     name sex_ age  \\\n",
       "0             Julie Wolfe    F  57   \n",
       "3                    male    M   0   \n",
       "4          Gustavo Ramos     M   0   \n",
       "6  Jose Ernesto da Silva     M  18   \n",
       "7                    male    M  52   \n",
       "\n",
       "                                              injury fatal_yon  \\\n",
       "0  No injury to occupant, outrigger canoe and pad...         N   \n",
       "3                          Minor injury to lower leg         N   \n",
       "4  Lacerations to leg & hand shark PROVOKED INCIDENT         N   \n",
       "6                                              FATAL         Y   \n",
       "7            Minor injury to foot. PROVOKED INCIDENT         N   \n",
       "\n",
       "             time         species_           investigator_or_source  \\\n",
       "0           18h00      White shark                 R. Collier, GSAF   \n",
       "3         unknown        2 m shark                   B. Myatt, GSAF   \n",
       "4         unknown  Tiger shark, 3m                        A .Kipper   \n",
       "6  Late afternoon      Tiger shark   Diario de Pernambuco, 6/4/2018   \n",
       "7         unknown  Lemon shark, 3'  K. McMurray, TrackingSharks.com   \n",
       "\n",
       "                        pdf  \\\n",
       "0      2018.06.25-Wolfe.pdf   \n",
       "3  2018.06.08-Arrawarra.pdf   \n",
       "4      2018.06.04-Ramos.pdf   \n",
       "6  2018.06.03.a-daSilva.pdf   \n",
       "7      2018.05.27-Ponce.pdf   \n",
       "\n",
       "                                        href_formula  \\\n",
       "0  http://sharkattackfile.net/spreadsheets/pdf_di...   \n",
       "3  http://sharkattackfile.net/spreadsheets/pdf_di...   \n",
       "4  http://sharkattackfile.net/spreadsheets/pdf_di...   \n",
       "6  http://sharkattackfile.net/spreadsheets/pdf_di...   \n",
       "7  http://sharkattackfile.net/spreadsheets/pdf_di...   \n",
       "\n",
       "                                                href case_number_1  \\\n",
       "0  http://sharkattackfile.net/spreadsheets/pdf_di...    2018.06.25   \n",
       "3  http://sharkattackfile.net/spreadsheets/pdf_di...    2018.06.08   \n",
       "4  http://sharkattackfile.net/spreadsheets/pdf_di...    2018.06.04   \n",
       "6  http://sharkattackfile.net/spreadsheets/pdf_di...  2018.06.03.a   \n",
       "7  http://sharkattackfile.net/spreadsheets/pdf_di...    2018.05.27   \n",
       "\n",
       "  case_number_2  original_order                       unnamed_22  \\\n",
       "0    2018.06.25          6303.0  Columna no contiene información   \n",
       "3    2018.06.08          6300.0  Columna no contiene información   \n",
       "4    2018.06.04          6299.0  Columna no contiene información   \n",
       "6  2018.06.03.a          6297.0  Columna no contiene información   \n",
       "7    2018.05.27          6296.0  Columna no contiene información   \n",
       "\n",
       "                        unnamed_23  \n",
       "0  Columna no contiene información  \n",
       "3  Columna no contiene información  \n",
       "4  Columna no contiene información  \n",
       "6  Columna no contiene información  \n",
       "7  Columna no contiene información  "
      ]
     },
     "execution_count": 25,
     "metadata": {},
     "output_type": "execute_result"
    }
   ],
   "source": [
    "df.head()"
   ]
  },
  {
   "cell_type": "markdown",
   "id": "eb2e0cb4",
   "metadata": {},
   "source": [
    "# 3.Determination of data type per column:"
   ]
  },
  {
   "cell_type": "markdown",
   "id": "d99af464",
   "metadata": {},
   "source": [
    "**case_number** --> This would be usefull for each case identification. As we have the index for identifying each case,\n",
    "let's take this column as irrelevant. That is why it is not going to be cleaned. Column type will be unchanged and it \n",
    "will remain as \"Object\".\n",
    "\n",
    "\n",
    "**date** --> This must be in date time as data type. Let's going to fix it:"
   ]
  },
  {
   "cell_type": "code",
   "execution_count": 26,
   "id": "e3598b37",
   "metadata": {},
   "outputs": [
    {
     "data": {
      "text/plain": [
       "array(['USA', 'AUSTRALIA', 'MEXICO', 'BRAZIL', 'ENGLAND', 'COSTA RICA',\n",
       "       'MALDIVES', 'SOUTH AFRICA', 'THAILAND', 'BAHAMAS', 'ECUADOR',\n",
       "       'NEW CALEDONIA', 'MALAYSIA', 'CUBA', 'NEW ZEALAND', 'SPAIN',\n",
       "       'EGYPT', 'REUNION', 'UNITED KINGDOM', 'PHILIPPINES', 'INDONESIA',\n",
       "       'COLUMBIA', 'FRENCH POLYNESIA', 'UNITED ARAB EMIRATES', 'FIJI',\n",
       "       'JAPAN', 'ST. MARTIN', 'FRANCE', 'BELIZE', 'JAMAICA', 'TONGA',\n",
       "       'SCOTLAND', 'ITALY', 'TAIWAN', 'PAPUA NEW GUINEA', 'RUSSIA',\n",
       "       'SEYCHELLES', 'TURKS & CAICOS', 'MALTA', 'VIETNAM', 'MOZAMBIQUE',\n",
       "       'GUAM', 'CROATIA', 'PANAMA', 'SOLOMON ISLANDS', 'NORWAY',\n",
       "       'Sierra Leone', 'ATLANTIC OCEAN', 'ST. MAARTIN', 'GRAND CAYMAN',\n",
       "       'CHINA', 'VANUATU', 'SOUTH KOREA', 'MADAGASCAR', ' TONGA',\n",
       "       'URUGUAY', 'VENEZUELA', 'INDIA', 'MICRONESIA', 'CANADA', 'OKINAWA',\n",
       "       'TANZANIA', 'MARSHALL ISLANDS', 'MAURITIUS', 'SENEGAL',\n",
       "       'EGYPT / ISRAEL', 'HONG KONG', 'CHILE', 'CARIBBEAN SEA', 'ANGOLA',\n",
       "       'Fiji', 'IRAN', 'TUNISIA', 'KENYA', 'NORTH ATLANTIC OCEAN',\n",
       "       'PORTUGAL', 'SOUTH CHINA SEA', 'BERMUDA', 'ISRAEL', 'PALAU',\n",
       "       'WESTERN SAMOA', 'BRITISH ISLES', 'unknown', 'NEW BRITAIN',\n",
       "       'JOHNSTON ISLAND', 'SOUTH PACIFIC OCEAN', 'NEW GUINEA', 'RED SEA',\n",
       "       'DOMINICAN REPUBLIC', 'FEDERATED STATES OF MICRONESIA', 'GREECE',\n",
       "       'BRITISH WEST INDIES', 'MID ATLANTIC OCEAN', 'PERSIAN GULF',\n",
       "       'NORTH PACIFIC OCEAN', 'NORTH SEA', 'NICARAGUA ', 'SRI LANKA',\n",
       "       'AMERICAN SAMOA', 'ANDAMAN / NICOBAR ISLANDAS', 'PACIFIC OCEAN',\n",
       "       'MAYOTTE', 'MONTENEGRO', 'YEMEN', 'ARGENTINA', 'SUDAN',\n",
       "       'NETHERLANDS ANTILLES', 'EL SALVADOR', 'IRAQ', 'INDIAN OCEAN',\n",
       "       'SOUTHWEST PACIFIC OCEAN', 'SOUTH ATLANTIC OCEAN', 'CURACAO',\n",
       "       'TRINIDAD & TOBAGO', 'HAITI', 'SAN DOMINGO', 'CYPRUS', 'GEORGIA',\n",
       "       'MEDITERRANEAN SEA', 'BAHREIN', 'NICARAGUA', 'SAUDI ARABIA'],\n",
       "      dtype=object)"
      ]
     },
     "execution_count": 26,
     "metadata": {},
     "output_type": "execute_result"
    }
   ],
   "source": [
    "df.country.unique()"
   ]
  },
  {
   "cell_type": "code",
   "execution_count": 27,
   "id": "e55e745d",
   "metadata": {},
   "outputs": [],
   "source": [
    "df['country']=df['country'].replace('Sierra Leone','SIERRA LEONE')"
   ]
  },
  {
   "cell_type": "code",
   "execution_count": 28,
   "id": "4dc248b7",
   "metadata": {},
   "outputs": [],
   "source": [
    "df['country']=df['country'].replace('ST. MAARTIN','ST. MARTIN')"
   ]
  },
  {
   "cell_type": "code",
   "execution_count": 29,
   "id": "b274b555",
   "metadata": {},
   "outputs": [],
   "source": [
    "df['country']=df['country'].replace('Fiji','FIJI')"
   ]
  },
  {
   "cell_type": "code",
   "execution_count": 30,
   "id": "15b21556",
   "metadata": {},
   "outputs": [
    {
     "data": {
      "text/plain": [
       "array(['California', 'New South Wales', 'Colima', 'Pernambuco', 'Florida',\n",
       "       'Queensland', 'Cornwall', 'Westerm Australia', 'Cocos Island',\n",
       "       'Western Australia', 'Alifu Alifu Atoll', 'Western Cape Province',\n",
       "       'Hawaii', 'Hua Hin', 'New Providence', 'Alagoas', 'unknown',\n",
       "       'Eastern Cape Province', 'Victoria', 'KwaZulu-Natal',\n",
       "       'Boi Island, Victoria', 'Galapagos Islands', 'Fernando de Noronha',\n",
       "       'Sepang', 'Holquin Province', 'South Australia', 'North Island',\n",
       "       'Canary Islands', 'Massachusetts', 'South Carolina',\n",
       "       'Red Sea Protectorate', 'Majorca', 'Washington', 'Tabasco',\n",
       "       'South Devon', 'New Providence ', 'Luzon Island', 'Great Exuma',\n",
       "       'Bimini', 'Bali', 'Alicante Province', 'Abaco Islands',\n",
       "       'Isla Provedencia', 'Texas', 'North Carolina', 'Suez', 'Tuamotos',\n",
       "       'Grand Terre', 'Santa Catarina State', 'Balneário Camboriú',\n",
       "       'Fujairah Emirate', 'Grand Canary Island', 'Phuket', 'Tasmania',\n",
       "       'Grand Bahama Island', 'Le Port', 'Rangiroa',\n",
       "       'Saint-Gilles-les-Bains', 'Bora Bora', 'Central Tuamotu',\n",
       "       'd\\x92Étang-Salé', 'Moorea', 'Alabama', 'Alicante', 'Louisiana',\n",
       "       'Saint-Leu', 'Delaware', 'Palmyra Atoll', 'Wallis and Futuna',\n",
       "       'Georgia', 'Society Islands', 'South Island', 'North Province',\n",
       "       'Oregon', 'Bay of Biscay', 'Exuma Islands', 'Santa Cruz Island',\n",
       "       'Saint-Gilles', 'Quintana Roo', 'Tuamotus', 'St. Catherine',\n",
       "       'Palawan', 'Mercury Islands', 'Sinaloa', \"Vava'u\",\n",
       "       'Inner Hebrides', 'Saint Leu', 'Sardinia', 'Guerrero', 'Taitung ',\n",
       "       'Moray', 'Central Province',\n",
       "       'Telyakovsky Bay, Khasan,  Primorsky Krai (Far East)', 'Praslin',\n",
       "       'Caicos Bank', 'Kedah', ' Loyalty Islands', 'West End',\n",
       "       'South Sinai Peninsula', 'Maine', 'New York', 'Binh Dinh Province',\n",
       "       'Sinai Peninsula', 'Saint-Benoit', 'Rio Grande Do Sul',\n",
       "       'Western Province', 'Torres Strait', 'Maputo Province',\n",
       "       'New Jersey', 'Inhambane Province', 'Fife', 'Devon',\n",
       "       'St. Johns Reef', 'Off Green Island', 'North Region',\n",
       "       'Strait of Malacca', 'Guantanamo Province', 'Red Sea',\n",
       "       'Northern Territory', ' Split-Dalmatia Count,', 'North Devon',\n",
       "       'US Virgin Islands', 'San Carlos', 'Cabo San Lucas', 'Sussex',\n",
       "       'Guerro', 'Northern Bahamas', 'Baja California', 'Loyalty Islands',\n",
       "       'Marovo Lagoon', 'Territory of Cocos (Keeling) Islands',\n",
       "       'Oslo Fjord', 'Virginia', 'Kent', 'Bird Island', 'Bimini Islands',\n",
       "       'South Province', 'Cook islans', 'Guam', 'Western Area',\n",
       "       'Vitu Levu', '300 miles from Antigua', 'Simpson Bay', 'East Wall',\n",
       "       'Shanghai', 'Malampa Province', \"South Ch'ungch'ong Province\",\n",
       "       'New Mexico', 'Santiago de Cuba Province', 'Camaguey Province',\n",
       "       'Conservatória District', 'South Carolina ',\n",
       "       'Kuril Islands in the Pacific', 'Wakayama Prefecture',\n",
       "       \"Nuku'alofa\", 'Saint-Benoît',\n",
       "       'South Island, near Karitane north of Dunedin', 'Rocha',\n",
       "       'Anzoategui', 'Tamil Nadu', 'Pearl Islands', 'Cook Islands',\n",
       "       'Johnston Atoll', 'Nueva Esparta', 'Southland',\n",
       "       'North Pacific coast', 'Caroline Islands', 'Cheshire', 'Maryland',\n",
       "       'KwaZulu-Natal between Port Edward and Port St Johns',\n",
       "       'Guanacaste', 'Rayong Province', 'Taveuni', 'New Brunswick',\n",
       "       'Miyako Island', 'Saint-Pierre', 'Alaska', 'Minerva Reef',\n",
       "       'Worcestershire', 'Rio de Janeiro', 'Alinglaplap Atoll',\n",
       "       'Ralik Chain', 'Grand Baie', \"L' Etang Salé-les-Bains\",\n",
       "       'Southern Japan', 'Cap Vert Peninsula', 'Berry Islands',\n",
       "       'Transvaal', 'Gaza', 'Miyako', 'Chatham Islands ',\n",
       "       'South Sinai, Gulf of Aqaba', 'Missouri', 'Saint-Paul ',\n",
       "       'Chatham Islands, east of New  Zealand', 'Vava\\x92u',\n",
       "       'Mississippi', 'Clearwater Bay', 'New Territories',\n",
       "       'Yasawa Islands', 'Aichi Prefecture', 'Saint-Denis',\n",
       "       'Costa Blanca', 'Walkers Cay', 'Tongapatu Group', 'West Africa',\n",
       "       'Wakaya Island', 'Saint-Paul', 'Saint-Joseph', 'Antarctic Ocean',\n",
       "       'Ehime Prefecture', 'La Saline-les-Bains', 'Ligurian Sea',\n",
       "       \"L'Etang-Salé\", 'Port Shelter', 'Sainte-Marie', 'Tuscany',\n",
       "       'Tyrrhenian Sea', 'New Ireland', 'Valpariso Province',\n",
       "       'Vanua Levu', 'Catalonia', 'Cádiz', 'Sicily',\n",
       "       'Central Philippines', 'North & South Carolina', 'Andros Islands',\n",
       "       'Chungnam', 'Coquimbo', \"Grand'Anse\", 'Lamu Archipelago',\n",
       "       'Los Vilos', 'Madeira Islands', 'Reggio Calabria Province',\n",
       "       'Florida ', 'Aulong Island', 'Western Caroline Islands',\n",
       "       'Upolu Island', 'Illeginni Atoll', 'Istria County',\n",
       "       'Coast Province', 'Namonuito Atoll', 'Eastern Caroline Islands',\n",
       "       'Western Caroline Islands (North Pacific Ocean)', 'Limpopo River',\n",
       "       'Zadar County', 'Magdalena Department', 'Eleuthera',\n",
       "       'New Ireland Province', 'Out Islands', 'Duke of York Islands',\n",
       "       'Primorje-Gorski Kotar County ', 'Taranto province',\n",
       "       'New Providence Island', 'West coast', 'Madang Province',\n",
       "       'East Sepik', 'East of the Gulf of Aqaba',\n",
       "       'Bougainville (North Solomons)', 'Victoria ', 'Northern Taiwan',\n",
       "       'San Blas', 'New Britain', 'Caribbean Coast', 'Vita Levu',\n",
       "       'San Blas Islands', 'South Coast, East New Britain',\n",
       "       'Gulf Province', ' Lau Province', 'Ysabel Island', 'Santo Domingo',\n",
       "       'Thessaly', 'Lomaiviti  Island Group', 'Veracruz',\n",
       "       'Grand Turk Island', 'Sharon', 'Northern District', 'Madang',\n",
       "       '10ºS, 142ºE', 'Kwajalein Atoll', 'Shefa Province',\n",
       "       '165  miles from Bermuda',\n",
       "       '25 km off the coast of Iran & 483km from mouth of Persian Gulf',\n",
       "       'Venice Province', 'Adriatic Sea',\n",
       "       'Admiralty Islands, Manus Province', 'Wake Island (EnenKio)',\n",
       "       'Roncador Bank', 'In the English Channel ',\n",
       "       'Unknown, treated at Wick, SCOTLAND', 'Paget', 'Pacific coast',\n",
       "       'Eastern  Province', 'Lomaiviti Province', 'Kadavu', 'Istria',\n",
       "       ' Kikori River mouth', 'Milne Bay Province',\n",
       "       'South Chungcheong Province', 'Tutuila Island', 'Cat Cay',\n",
       "       'Primorje-Gorski Kotar County', 'Between Hawaii & Wake Island',\n",
       "       'Taipei Hsien', 'Canal Zone', 'West New Britain Province',\n",
       "       'Near Dakar, Cap Vert Peninsula',\n",
       "       'Near the Andaman & Nicobar Islands', 'Mozambique Channel',\n",
       "       'Tyrrenian Sea', 'St. Thomas Bay', 'Corfu Island',\n",
       "       '1000 miles west of Hawaii', ' Primorje-Gorski Kotar County',\n",
       "       'Rhode Island', 'Aden', 'New Ireland, Bismarck Archipelago',\n",
       "       'Havana Province', 'Isles del Rosario', 'Wake Island',\n",
       "       'Isle of Man', 'South shore ', 'Buenos Aires Province',\n",
       "       'Nova Scotia', 'Karun River', 'Genoa  Province', 'Puerto Rico',\n",
       "       'Red Sea State', 'Curacao', ' La Libertad', 'Eastern Province',\n",
       "       'Southern Province', 'Jakarta Harbour', 'Caribbean Sea', 'Attica',\n",
       "       'New Ireland Province, Bismarck Archipelago', 'Khuzestan Province',\n",
       "       'Basrah', '300 miles east of Luzon', 'Gulf of Panama', 'Liguria',\n",
       "       'Cay Sal Bank', 'Off Libya', 'Panama Bay (Pacific Ocean)',\n",
       "       'Torres Strait ', 'Ascension Bay', 'Basrah City', 'Trinidad',\n",
       "       'Queensland ', 'Argyll', 'Hamilton', 'Bay of Fundy',\n",
       "       'Viti Levu Island', 'Golfo di Genova in the Ligurian Sea',\n",
       "       'Vancouver', 'Tamaulipas', 'Dorset', 'Westmoreland Parish',\n",
       "       'Kingston Parish', 'Cape Haitien',\n",
       "       '60 miles north of San Domingo in the West Indies', 'Balearics',\n",
       "       'Georges Bank', 'Hong Kong', 'Harare Province', 'Southern Cyprus',\n",
       "       'Calabria', 'Provence', 'Bay of Campeche', 'Andaman Islands',\n",
       "       'East Java', 'Newfoundland', 'Hoogly River', 'Alpes Maritime',\n",
       "       'Corfu ', 'Matanzas Province (north coast)', \"Côte d'Azur \",\n",
       "       'Los Roques  Islands', 'Milne Bay  Province', 'Amirante Islands',\n",
       "       'Lake Nicaragua (fresh water)'], dtype=object)"
      ]
     },
     "execution_count": 30,
     "metadata": {},
     "output_type": "execute_result"
    }
   ],
   "source": [
    "df.area.unique()"
   ]
  },
  {
   "cell_type": "code",
   "execution_count": 31,
   "id": "cd482532",
   "metadata": {},
   "outputs": [
    {
     "data": {
      "text/plain": [
       "array(['Oceanside, San Diego County', 'Arrawarra Headland', 'La Ticla',\n",
       "       ..., 'Shatt-el Arab River near a small boat stand',\n",
       "       'East of the Ras Tanura-Jubail area ', '            '],\n",
       "      dtype=object)"
      ]
     },
     "execution_count": 31,
     "metadata": {},
     "output_type": "execute_result"
    }
   ],
   "source": [
    "df.location.unique()"
   ]
  },
  {
   "cell_type": "code",
   "execution_count": 32,
   "id": "82588e45",
   "metadata": {},
   "outputs": [
    {
     "data": {
      "text/plain": [
       "array(['Julie Wolfe', 'male', 'Gustavo Ramos ', ...,\n",
       "       'Occupant:     Mr. Maciotta', 'a servant', 'Arab boy'],\n",
       "      dtype=object)"
      ]
     },
     "execution_count": 32,
     "metadata": {},
     "output_type": "execute_result"
    }
   ],
   "source": [
    "df.name.unique()"
   ]
  },
  {
   "cell_type": "code",
   "execution_count": 33,
   "id": "3f8868f1",
   "metadata": {},
   "outputs": [
    {
     "data": {
      "text/plain": [
       "array(['57', 0, '18', '52', '15', '32', '21', '34', '30', '60', '33',\n",
       "       '29', '54', '56', '12', '19', '25', '10', '69', '38', '55', '35',\n",
       "       '46', '45', '14', '40s', '28', '20', '24', '26', '49', '22', '7',\n",
       "       '31', '40', '13', '37', '50', '48', '17', '58', '65', '73', '36',\n",
       "       '60s', '51', '43', '61', '59', '42', '6', '23', '39', '41', '11',\n",
       "       '71', '44', '27', '62', '68', '9', '16', '47', '63', '70',\n",
       "       '18 months', '53', '20s', '30s', 'Teen', '66', '74', '64',\n",
       "       '28 & 26', '8', 'teen', '18 or 20', '46 & 34', '77', '84', '\\xa0 ',\n",
       "       ' ', '30 or 36', '6½', '21 & ?', '5', ' 30', ' 28', '20?', \"60's\",\n",
       "       '32 & 30', '>50', 'adult', '9 months', '25 to 35', '23 & 26',\n",
       "       '33 & 37', '30 & 32', '17 & 35', '13 or 18', ' 43', '\"young\"',\n",
       "       '7 or 8', 'Both 11', '9 or 10', '13 or 14'], dtype=object)"
      ]
     },
     "execution_count": 33,
     "metadata": {},
     "output_type": "execute_result"
    }
   ],
   "source": [
    "df.age.unique()"
   ]
  },
  {
   "cell_type": "code",
   "execution_count": 34,
   "id": "13554aab",
   "metadata": {},
   "outputs": [
    {
     "data": {
      "text/plain": [
       "array([502, 881], dtype=int64)"
      ]
     },
     "execution_count": 34,
     "metadata": {},
     "output_type": "execute_result"
    }
   ],
   "source": [
    "(df[df['age']=='20s'].index.values)"
   ]
  },
  {
   "cell_type": "code",
   "execution_count": 35,
   "id": "03d5975f",
   "metadata": {},
   "outputs": [],
   "source": [
    "df.loc[[502, 881],\"age\"]=20"
   ]
  },
  {
   "cell_type": "code",
   "execution_count": 36,
   "id": "f03fef76",
   "metadata": {},
   "outputs": [
    {
     "data": {
      "text/plain": [
       "array([ 509, 1481, 1526, 2634, 2635], dtype=int64)"
      ]
     },
     "execution_count": 36,
     "metadata": {},
     "output_type": "execute_result"
    }
   ],
   "source": [
    "(df[df['age']=='30s'].index.values)"
   ]
  },
  {
   "cell_type": "code",
   "execution_count": 37,
   "id": "d4625ff2",
   "metadata": {},
   "outputs": [],
   "source": [
    "df.loc[[509, 1481, 1526, 2634, 2635],\"age\"]=30"
   ]
  },
  {
   "cell_type": "code",
   "execution_count": 38,
   "id": "34a096c7",
   "metadata": {},
   "outputs": [
    {
     "data": {
      "text/plain": [
       "array([698], dtype=int64)"
      ]
     },
     "execution_count": 38,
     "metadata": {},
     "output_type": "execute_result"
    }
   ],
   "source": [
    "(df[df['age']=='28 & 26'].index.values)"
   ]
  },
  {
   "cell_type": "code",
   "execution_count": 39,
   "id": "bbcec3b6",
   "metadata": {},
   "outputs": [],
   "source": [
    "df.loc[[698],\"age\"]=27"
   ]
  },
  {
   "cell_type": "code",
   "execution_count": 40,
   "id": "5a169c9c",
   "metadata": {},
   "outputs": [
    {
     "data": {
      "text/plain": [
       "array([1325], dtype=int64)"
      ]
     },
     "execution_count": 40,
     "metadata": {},
     "output_type": "execute_result"
    }
   ],
   "source": [
    "(df[df['age']=='18 or 20'].index.values)"
   ]
  },
  {
   "cell_type": "code",
   "execution_count": 41,
   "id": "a67a5b71",
   "metadata": {},
   "outputs": [],
   "source": [
    "df.loc[[1325],\"age\"]=19"
   ]
  },
  {
   "cell_type": "code",
   "execution_count": 42,
   "id": "e5fb5a23",
   "metadata": {},
   "outputs": [
    {
     "data": {
      "text/plain": [
       "array([1506], dtype=int64)"
      ]
     },
     "execution_count": 42,
     "metadata": {},
     "output_type": "execute_result"
    }
   ],
   "source": [
    "(df[df['age']=='46 & 34'].index.values)"
   ]
  },
  {
   "cell_type": "code",
   "execution_count": 43,
   "id": "9cc12848",
   "metadata": {},
   "outputs": [],
   "source": [
    "df.loc[[1506],\"age\"]=19"
   ]
  },
  {
   "cell_type": "code",
   "execution_count": 44,
   "id": "ce2066d1",
   "metadata": {},
   "outputs": [],
   "source": [
    "df.drop(df[df.age=='\\xa0 '].index, axis=0, inplace=True)"
   ]
  },
  {
   "cell_type": "code",
   "execution_count": 45,
   "id": "e568c0a4",
   "metadata": {},
   "outputs": [],
   "source": [
    "df.drop(df[df.age==' '].index, axis=0, inplace=True)"
   ]
  },
  {
   "cell_type": "code",
   "execution_count": 46,
   "id": "46946c48",
   "metadata": {},
   "outputs": [],
   "source": [
    "df.drop(df[df.age=='6½'].index, axis=0, inplace=True)"
   ]
  },
  {
   "cell_type": "code",
   "execution_count": 47,
   "id": "2a9512da",
   "metadata": {},
   "outputs": [],
   "source": [
    "df.drop(df[df.age=='adult'].index, axis=0, inplace=True)"
   ]
  },
  {
   "cell_type": "code",
   "execution_count": 48,
   "id": "ec6a476c",
   "metadata": {},
   "outputs": [],
   "source": [
    "df.drop(df[df.age=='9 months'].index, axis=0, inplace=True)"
   ]
  },
  {
   "cell_type": "code",
   "execution_count": 49,
   "id": "c512687b",
   "metadata": {},
   "outputs": [],
   "source": [
    "df.drop(df[df.age=='\"young\"'].index, axis=0, inplace=True)"
   ]
  },
  {
   "cell_type": "code",
   "execution_count": 50,
   "id": "0c43a083",
   "metadata": {},
   "outputs": [],
   "source": [
    "df.drop(df[df.age=='Teen'].index, axis=0, inplace=True)"
   ]
  },
  {
   "cell_type": "code",
   "execution_count": 51,
   "id": "3052b9ea",
   "metadata": {},
   "outputs": [],
   "source": [
    "df.drop(df[df.age=='teen'].index, axis=0, inplace=True)"
   ]
  },
  {
   "cell_type": "code",
   "execution_count": 52,
   "id": "cff56d7b",
   "metadata": {},
   "outputs": [],
   "source": [
    "df.drop(df[df.age=='18 months'].index, axis=0, inplace=True)"
   ]
  },
  {
   "cell_type": "code",
   "execution_count": 53,
   "id": "156a505c",
   "metadata": {},
   "outputs": [],
   "source": [
    "df.drop(df[df.age=='17 & 35'].index, axis=0, inplace=True)"
   ]
  },
  {
   "cell_type": "code",
   "execution_count": 54,
   "id": "173558e0",
   "metadata": {},
   "outputs": [],
   "source": [
    "df.drop(df[df.age==0].index, axis=0, inplace=True)"
   ]
  },
  {
   "cell_type": "code",
   "execution_count": 55,
   "id": "6e4c4f5f",
   "metadata": {},
   "outputs": [
    {
     "data": {
      "text/plain": [
       "array([2441], dtype=int64)"
      ]
     },
     "execution_count": 55,
     "metadata": {},
     "output_type": "execute_result"
    }
   ],
   "source": [
    "(df[df['age']=='20?'].index.values)"
   ]
  },
  {
   "cell_type": "code",
   "execution_count": 56,
   "id": "7c00aea7",
   "metadata": {},
   "outputs": [],
   "source": [
    "df.loc[[2441],\"age\"]=20"
   ]
  },
  {
   "cell_type": "code",
   "execution_count": 57,
   "id": "78ad9ac6",
   "metadata": {},
   "outputs": [
    {
     "data": {
      "text/plain": [
       "array([3742], dtype=int64)"
      ]
     },
     "execution_count": 57,
     "metadata": {},
     "output_type": "execute_result"
    }
   ],
   "source": [
    "(df[df['age']=='23 & 26'].index.values)"
   ]
  },
  {
   "cell_type": "code",
   "execution_count": 58,
   "id": "29c005d7",
   "metadata": {},
   "outputs": [],
   "source": [
    "df.loc[[3742],\"age\"]=25"
   ]
  },
  {
   "cell_type": "code",
   "execution_count": 59,
   "id": "cd9edc2b",
   "metadata": {},
   "outputs": [
    {
     "data": {
      "text/plain": [
       "array([1925], dtype=int64)"
      ]
     },
     "execution_count": 59,
     "metadata": {},
     "output_type": "execute_result"
    }
   ],
   "source": [
    "(df[df['age']=='21 & ?'].index.values)"
   ]
  },
  {
   "cell_type": "code",
   "execution_count": 60,
   "id": "4659be20",
   "metadata": {},
   "outputs": [],
   "source": [
    "df.loc[[1925],\"age\"]=21"
   ]
  },
  {
   "cell_type": "code",
   "execution_count": 61,
   "id": "7506b820",
   "metadata": {},
   "outputs": [
    {
     "data": {
      "text/plain": [
       "array([219], dtype=int64)"
      ]
     },
     "execution_count": 61,
     "metadata": {},
     "output_type": "execute_result"
    }
   ],
   "source": [
    "(df[df['age']==\"60s\"].index.values)"
   ]
  },
  {
   "cell_type": "code",
   "execution_count": 62,
   "id": "5048148b",
   "metadata": {},
   "outputs": [],
   "source": [
    "df.loc[[2496],\"age\"]=60"
   ]
  },
  {
   "cell_type": "code",
   "execution_count": 63,
   "id": "b6195092",
   "metadata": {},
   "outputs": [
    {
     "data": {
      "text/plain": [
       "array([2511], dtype=int64)"
      ]
     },
     "execution_count": 63,
     "metadata": {},
     "output_type": "execute_result"
    }
   ],
   "source": [
    "(df[df['age']=='32 & 30'].index.values)"
   ]
  },
  {
   "cell_type": "code",
   "execution_count": 64,
   "id": "887e15a9",
   "metadata": {},
   "outputs": [],
   "source": [
    "df.loc[[2511],\"age\"]=31"
   ]
  },
  {
   "cell_type": "code",
   "execution_count": 65,
   "id": "b8703246",
   "metadata": {},
   "outputs": [
    {
     "data": {
      "text/plain": [
       "array([3364], dtype=int64)"
      ]
     },
     "execution_count": 65,
     "metadata": {},
     "output_type": "execute_result"
    }
   ],
   "source": [
    "(df[df['age']=='>50'].index.values)"
   ]
  },
  {
   "cell_type": "code",
   "execution_count": 66,
   "id": "fac3b7ef",
   "metadata": {},
   "outputs": [],
   "source": [
    "df.loc[[3364],\"age\"]=50"
   ]
  },
  {
   "cell_type": "code",
   "execution_count": 67,
   "id": "87441579",
   "metadata": {},
   "outputs": [
    {
     "data": {
      "text/plain": [
       "array([3646], dtype=int64)"
      ]
     },
     "execution_count": 67,
     "metadata": {},
     "output_type": "execute_result"
    }
   ],
   "source": [
    "(df[df['age']=='25 to 35'].index.values)"
   ]
  },
  {
   "cell_type": "code",
   "execution_count": 68,
   "id": "de4c6ace",
   "metadata": {},
   "outputs": [],
   "source": [
    "df.loc[[3646],\"age\"]=30"
   ]
  },
  {
   "cell_type": "code",
   "execution_count": 69,
   "id": "9989f9af",
   "metadata": {},
   "outputs": [
    {
     "data": {
      "text/plain": [
       "array([3880], dtype=int64)"
      ]
     },
     "execution_count": 69,
     "metadata": {},
     "output_type": "execute_result"
    }
   ],
   "source": [
    "(df[df['age']=='33 & 37'].index.values)"
   ]
  },
  {
   "cell_type": "code",
   "execution_count": 70,
   "id": "70357b29",
   "metadata": {},
   "outputs": [],
   "source": [
    "df.loc[[3880],\"age\"]=35"
   ]
  },
  {
   "cell_type": "code",
   "execution_count": 71,
   "id": "a00d2ab5",
   "metadata": {},
   "outputs": [
    {
     "data": {
      "text/plain": [
       "array([4009], dtype=int64)"
      ]
     },
     "execution_count": 71,
     "metadata": {},
     "output_type": "execute_result"
    }
   ],
   "source": [
    "(df[df['age']=='30 & 32'].index.values)"
   ]
  },
  {
   "cell_type": "code",
   "execution_count": 72,
   "id": "f4a3d473",
   "metadata": {},
   "outputs": [],
   "source": [
    "df.loc[[4009],\"age\"]=31"
   ]
  },
  {
   "cell_type": "code",
   "execution_count": 73,
   "id": "fe177b8c",
   "metadata": {},
   "outputs": [
    {
     "data": {
      "text/plain": [
       "array([4075], dtype=int64)"
      ]
     },
     "execution_count": 73,
     "metadata": {},
     "output_type": "execute_result"
    }
   ],
   "source": [
    "(df[df['age']=='13 or 18'].index.values)"
   ]
  },
  {
   "cell_type": "code",
   "execution_count": 74,
   "id": "ce7a1542",
   "metadata": {},
   "outputs": [],
   "source": [
    "df.loc[[4075],\"age\"]=15"
   ]
  },
  {
   "cell_type": "code",
   "execution_count": 75,
   "id": "99dd93f8",
   "metadata": {},
   "outputs": [
    {
     "data": {
      "text/plain": [
       "array([4405], dtype=int64)"
      ]
     },
     "execution_count": 75,
     "metadata": {},
     "output_type": "execute_result"
    }
   ],
   "source": [
    "(df[df['age']==' 43'].index.values)"
   ]
  },
  {
   "cell_type": "code",
   "execution_count": 76,
   "id": "b47c618a",
   "metadata": {},
   "outputs": [],
   "source": [
    "df.loc[[4405],\"age\"]=43"
   ]
  },
  {
   "cell_type": "code",
   "execution_count": 77,
   "id": "2e7a00a0",
   "metadata": {},
   "outputs": [
    {
     "data": {
      "text/plain": [
       "array([4489], dtype=int64)"
      ]
     },
     "execution_count": 77,
     "metadata": {},
     "output_type": "execute_result"
    }
   ],
   "source": [
    "(df[df['age']=='7 or 8'].index.values)"
   ]
  },
  {
   "cell_type": "code",
   "execution_count": 78,
   "id": "d3a4cd61",
   "metadata": {},
   "outputs": [],
   "source": [
    "df.loc[[4489],\"age\"]=7"
   ]
  },
  {
   "cell_type": "code",
   "execution_count": 79,
   "id": "e68a6f62",
   "metadata": {},
   "outputs": [
    {
     "data": {
      "text/plain": [
       "array([4801], dtype=int64)"
      ]
     },
     "execution_count": 79,
     "metadata": {},
     "output_type": "execute_result"
    }
   ],
   "source": [
    "(df[df['age']=='Both 11'].index.values)"
   ]
  },
  {
   "cell_type": "code",
   "execution_count": 80,
   "id": "f1227bf1",
   "metadata": {},
   "outputs": [],
   "source": [
    "df.loc[[4801],\"age\"]=11"
   ]
  },
  {
   "cell_type": "code",
   "execution_count": 81,
   "id": "0a4541fa",
   "metadata": {},
   "outputs": [
    {
     "data": {
      "text/plain": [
       "array([4818], dtype=int64)"
      ]
     },
     "execution_count": 81,
     "metadata": {},
     "output_type": "execute_result"
    }
   ],
   "source": [
    "(df[df['age']=='9 or 10'].index.values)"
   ]
  },
  {
   "cell_type": "code",
   "execution_count": 82,
   "id": "e2933c4a",
   "metadata": {},
   "outputs": [],
   "source": [
    "df.loc[[4818],\"age\"]=9"
   ]
  },
  {
   "cell_type": "code",
   "execution_count": 83,
   "id": "d7fb22d6",
   "metadata": {},
   "outputs": [
    {
     "data": {
      "text/plain": [
       "array([6265], dtype=int64)"
      ]
     },
     "execution_count": 83,
     "metadata": {},
     "output_type": "execute_result"
    }
   ],
   "source": [
    "(df[df['age']=='13 or 14'].index.values)"
   ]
  },
  {
   "cell_type": "code",
   "execution_count": 84,
   "id": "78a5e34c",
   "metadata": {},
   "outputs": [],
   "source": [
    "df.loc[[6265],\"age\"]=13"
   ]
  },
  {
   "cell_type": "code",
   "execution_count": 85,
   "id": "6eebd67c",
   "metadata": {},
   "outputs": [
    {
     "data": {
      "text/plain": [
       "array([ 48, 468], dtype=int64)"
      ]
     },
     "execution_count": 85,
     "metadata": {},
     "output_type": "execute_result"
    }
   ],
   "source": [
    "(df[df['age']=='40s'].index.values)"
   ]
  },
  {
   "cell_type": "code",
   "execution_count": 86,
   "id": "2b60b5a7",
   "metadata": {},
   "outputs": [],
   "source": [
    "df.loc[[48, 468],\"age\"]=40"
   ]
  },
  {
   "cell_type": "code",
   "execution_count": 87,
   "id": "b90db1fb",
   "metadata": {},
   "outputs": [
    {
     "data": {
      "text/plain": [
       "array([219], dtype=int64)"
      ]
     },
     "execution_count": 87,
     "metadata": {},
     "output_type": "execute_result"
    }
   ],
   "source": [
    "(df[df['age']=='60s'].index.values)"
   ]
  },
  {
   "cell_type": "code",
   "execution_count": 88,
   "id": "f41bab5c",
   "metadata": {},
   "outputs": [],
   "source": [
    "df.loc[[219],\"age\"]=60"
   ]
  },
  {
   "cell_type": "code",
   "execution_count": 89,
   "id": "3ee9c269",
   "metadata": {},
   "outputs": [
    {
     "data": {
      "text/plain": [
       "array([1881], dtype=int64)"
      ]
     },
     "execution_count": 89,
     "metadata": {},
     "output_type": "execute_result"
    }
   ],
   "source": [
    "(df[df['age']=='30 or 36'].index.values)"
   ]
  },
  {
   "cell_type": "code",
   "execution_count": 90,
   "id": "16551a2f",
   "metadata": {},
   "outputs": [],
   "source": [
    "df.loc[[1881],\"age\"]=33"
   ]
  },
  {
   "cell_type": "code",
   "execution_count": 91,
   "id": "73513525",
   "metadata": {},
   "outputs": [
    {
     "data": {
      "text/plain": [
       "array([2434], dtype=int64)"
      ]
     },
     "execution_count": 91,
     "metadata": {},
     "output_type": "execute_result"
    }
   ],
   "source": [
    "(df[df['age']==' 28'].index.values)"
   ]
  },
  {
   "cell_type": "code",
   "execution_count": 92,
   "id": "c1dbe55f",
   "metadata": {},
   "outputs": [],
   "source": [
    "df.loc[[2434],\"age\"]=28"
   ]
  },
  {
   "cell_type": "code",
   "execution_count": 93,
   "id": "a7a898e4",
   "metadata": {},
   "outputs": [
    {
     "data": {
      "text/plain": [
       "array([2259], dtype=int64)"
      ]
     },
     "execution_count": 93,
     "metadata": {},
     "output_type": "execute_result"
    }
   ],
   "source": [
    "(df[df['age']==' 30'].index.values)"
   ]
  },
  {
   "cell_type": "code",
   "execution_count": 94,
   "id": "0746b09b",
   "metadata": {},
   "outputs": [],
   "source": [
    "df.loc[[2259],\"age\"]=30"
   ]
  },
  {
   "cell_type": "code",
   "execution_count": 95,
   "id": "ab757058",
   "metadata": {},
   "outputs": [
    {
     "data": {
      "text/plain": [
       "array(['57', '18', '52', '15', '32', '21', '34', '30', '60', '33', '29',\n",
       "       '54', '56', '12', '19', '25', '10', '69', '38', '55', '35', '46',\n",
       "       '45', '14', 40, '28', '20', '24', '26', '49', '22', '7', '31',\n",
       "       '40', '13', '37', '50', '48', '17', '58', '65', '73', '36', 60,\n",
       "       '51', '43', '61', '59', '42', '6', '23', '39', '41', '11', '71',\n",
       "       '44', '27', '62', '68', '9', '16', '47', '63', '70', '53', 20, 30,\n",
       "       '66', '74', '64', 27, '8', 19, '77', '84', 33, 21, '5', 28, 31, 50,\n",
       "       25, 35, 15, 43, 7, 11, 9, 13], dtype=object)"
      ]
     },
     "execution_count": 95,
     "metadata": {},
     "output_type": "execute_result"
    }
   ],
   "source": [
    "df.age.unique()"
   ]
  },
  {
   "cell_type": "code",
   "execution_count": 96,
   "id": "b63990c0",
   "metadata": {},
   "outputs": [],
   "source": [
    "df['age'] = df['age'].astype('int')"
   ]
  },
  {
   "cell_type": "code",
   "execution_count": 97,
   "id": "d2f1ee28",
   "metadata": {},
   "outputs": [
    {
     "data": {
      "text/plain": [
       "array([2018., 2017., 2016., 2015., 2014., 2013., 2012., 2011., 2010.,\n",
       "       2009., 2008., 2007., 2006., 2005., 2004., 2003., 2002., 2001.,\n",
       "       2000., 1999., 1998., 1997., 1996., 1995., 1994., 1993., 1992.,\n",
       "       1991., 1990., 1989., 1988., 1987., 1986., 1985., 1984., 1983.,\n",
       "       1982., 1981., 1980., 1979., 1978., 1977., 1976., 1975., 1974.,\n",
       "       1973., 1972., 1971., 1970., 1969., 1968., 1967., 1966., 1965.,\n",
       "       1964., 1963., 1962., 1961., 1960., 1959., 1958., 1957., 1956.,\n",
       "       1955., 1954., 1953., 1952., 1951., 1950., 1949., 1948., 1947.,\n",
       "       1946., 1945., 1944., 1943., 1942., 1941., 1940., 1939., 1938.,\n",
       "       1937., 1936., 1935., 1934., 1933., 1932., 1931., 1930., 1929.,\n",
       "       1928., 1927., 1926., 1925., 1924., 1922., 1919., 1916., 1912.,\n",
       "       1906., 1905., 1901., 1899., 1898., 1894., 1892., 1880., 1879.,\n",
       "       1878., 1868.,    0.])"
      ]
     },
     "execution_count": 97,
     "metadata": {},
     "output_type": "execute_result"
    }
   ],
   "source": [
    "df.year.unique()"
   ]
  },
  {
   "cell_type": "code",
   "execution_count": 98,
   "id": "b3451232",
   "metadata": {},
   "outputs": [],
   "source": [
    "df['year'] = df['year'].astype('int')"
   ]
  },
  {
   "cell_type": "code",
   "execution_count": 99,
   "id": "b0c52856",
   "metadata": {},
   "outputs": [
    {
     "data": {
      "text/plain": [
       "2015    80\n",
       "2012    62\n",
       "2007    58\n",
       "2002    55\n",
       "2013    53\n",
       "        ..\n",
       "1901     1\n",
       "1906     1\n",
       "1912     1\n",
       "1919     1\n",
       "1924     1\n",
       "Name: year, Length: 111, dtype: int64"
      ]
     },
     "execution_count": 99,
     "metadata": {},
     "output_type": "execute_result"
    }
   ],
   "source": [
    "df.year.value_counts()"
   ]
  },
  {
   "cell_type": "code",
   "execution_count": 100,
   "id": "887542af",
   "metadata": {},
   "outputs": [
    {
     "data": {
      "text/plain": [
       "M      1663\n",
       "F       253\n",
       "lli       1\n",
       "Name: sex_, dtype: int64"
      ]
     },
     "execution_count": 100,
     "metadata": {},
     "output_type": "execute_result"
    }
   ],
   "source": [
    "df.sex_.value_counts()"
   ]
  },
  {
   "cell_type": "code",
   "execution_count": 101,
   "id": "17783d34",
   "metadata": {},
   "outputs": [],
   "source": [
    "df.drop(df[df.sex_=='lli'].index, axis=0, inplace=True)"
   ]
  },
  {
   "cell_type": "code",
   "execution_count": 102,
   "id": "94dadfc1",
   "metadata": {},
   "outputs": [
    {
     "data": {
      "text/plain": [
       "Unprovoked      1664\n",
       "Provoked         202\n",
       "Boating           28\n",
       "Invalid           11\n",
       "Sea Disaster       9\n",
       "Boat               2\n",
       "Name: type, dtype: int64"
      ]
     },
     "execution_count": 102,
     "metadata": {},
     "output_type": "execute_result"
    }
   ],
   "source": [
    "df.type.value_counts()"
   ]
  },
  {
   "cell_type": "code",
   "execution_count": 103,
   "id": "5c80a7f5",
   "metadata": {},
   "outputs": [],
   "source": [
    "df['type']=df['type'].replace('Boating','Boat')"
   ]
  },
  {
   "cell_type": "code",
   "execution_count": 104,
   "id": "dad67960",
   "metadata": {},
   "outputs": [
    {
     "data": {
      "text/plain": [
       "N       1617\n",
       "Y        294\n",
       " N         3\n",
       "M          1\n",
       "2017       1\n",
       "Name: fatal_yon, dtype: int64"
      ]
     },
     "execution_count": 104,
     "metadata": {},
     "output_type": "execute_result"
    }
   ],
   "source": [
    "df.fatal_yon.value_counts()"
   ]
  },
  {
   "cell_type": "code",
   "execution_count": 105,
   "id": "9144d054",
   "metadata": {},
   "outputs": [],
   "source": [
    "df['fatal_yon']=df['fatal_yon'].replace(' N','N')"
   ]
  },
  {
   "cell_type": "code",
   "execution_count": 106,
   "id": "955933a2",
   "metadata": {},
   "outputs": [],
   "source": [
    "df.drop(df[df.fatal_yon=='M'].index, axis=0, inplace=True)"
   ]
  },
  {
   "cell_type": "code",
   "execution_count": 107,
   "id": "407c3f53",
   "metadata": {},
   "outputs": [],
   "source": [
    "df.drop(df[df.fatal_yon=='2017'].index, axis=0, inplace=True)"
   ]
  },
  {
   "cell_type": "code",
   "execution_count": 108,
   "id": "5b3a63a0",
   "metadata": {},
   "outputs": [
    {
     "data": {
      "text/plain": [
       "(1914, 24)"
      ]
     },
     "execution_count": 108,
     "metadata": {},
     "output_type": "execute_result"
    }
   ],
   "source": [
    "df.shape"
   ]
  },
  {
   "cell_type": "code",
   "execution_count": null,
   "id": "ef0ec063",
   "metadata": {},
   "outputs": [],
   "source": []
  },
  {
   "cell_type": "code",
   "execution_count": 109,
   "id": "2e18aa7a",
   "metadata": {},
   "outputs": [
    {
     "data": {
      "text/plain": [
       "White shark                              94\n",
       "Tiger shark                              44\n",
       "Bull shark                               38\n",
       "4' shark                                 36\n",
       "6' shark                                 28\n",
       "1.8 m [6'] shark                         28\n",
       "1.2 m [4'] shark                         24\n",
       "4' to 5' shark                           20\n",
       "3' shark                                 19\n",
       "1.5 m [5'] shark                         18\n",
       "5' shark                                 17\n",
       "3 m [10'] shark                          15\n",
       "3' to 4' shark                           15\n",
       "1.2 m to 1.5 m [4' to 5'] shark          14\n",
       "2 m shark                                12\n",
       "1.5 m shark                              12\n",
       "5 m [16.5'] white shark                  11\n",
       "Raggedtooth shark                        11\n",
       "Blacktip shark                           11\n",
       "6 m [20'] white shark                    10\n",
       "\"a small shark\"                          10\n",
       "Wobbegong shark                          10\n",
       "Zambesi shark                             9\n",
       "3 m shark                                 9\n",
       "2.4 m [8'] shark                          8\n",
       "Unidentified species                      8\n",
       "4 m [13'] white shark                     8\n",
       "12' shark                                 8\n",
       "3.7 m [12'] shark                         8\n",
       "Bronze whaler shark                       8\n",
       "1 m shark                                 7\n",
       "\"small shark\"                             7\n",
       "7' shark                                  7\n",
       "2' to 3' shark                            7\n",
       "White shark, 4 m [13']                    7\n",
       "3 m [10'] white shark                     6\n",
       "Bull shark, 6'                            6\n",
       "a small shark                             6\n",
       "Shark involvement not confirmed           6\n",
       "Blue shark                                6\n",
       "5' to 6' shark                            6\n",
       "6' to 8' shark                            5\n",
       "9' shark                                  5\n",
       "Mako shark                                5\n",
       "10' shark                                 5\n",
       "2.1 m [7'] shark                          5\n",
       "White shark, 3 m [10']                    5\n",
       "2.5 m shark                               5\n",
       "2.5 m [8.25'] white shark                 5\n",
       "Grey nurse shark                          5\n",
       "Nurse shark                               5\n",
       "2' shark                                  5\n",
       "1.8 m to 2.4 m [6' to 8'] shark           5\n",
       "Sandtiger shark                           5\n",
       "White shark, 3.7 m [12']                  4\n",
       "\"sand shark\"                              4\n",
       "blacktip or spinner shark                 4\n",
       "2 m [6.75'] shark                         4\n",
       "4 m to 5 m [13' to 16.5'] white shark     4\n",
       "Name: species_, dtype: int64"
      ]
     },
     "execution_count": 109,
     "metadata": {},
     "output_type": "execute_result"
    }
   ],
   "source": [
    "df.species_.value_counts().head(59)"
   ]
  },
  {
   "cell_type": "code",
   "execution_count": 111,
   "id": "bb7deb13",
   "metadata": {},
   "outputs": [
    {
     "name": "stdout",
     "output_type": "stream",
     "text": [
      "<class 'pandas.core.frame.DataFrame'>\n",
      "Int64Index: 1914 entries, 0 to 6276\n",
      "Data columns (total 24 columns):\n",
      " #   Column                  Non-Null Count  Dtype  \n",
      "---  ------                  --------------  -----  \n",
      " 0   case_number             1914 non-null   object \n",
      " 1   date                    1914 non-null   object \n",
      " 2   year                    1914 non-null   int32  \n",
      " 3   type                    1914 non-null   object \n",
      " 4   country                 1914 non-null   object \n",
      " 5   area                    1914 non-null   object \n",
      " 6   location                1914 non-null   object \n",
      " 7   activity                1914 non-null   object \n",
      " 8   name                    1914 non-null   object \n",
      " 9   sex_                    1914 non-null   object \n",
      " 10  age                     1914 non-null   int32  \n",
      " 11  injury                  1914 non-null   object \n",
      " 12  fatal_yon               1914 non-null   object \n",
      " 13  time                    1914 non-null   object \n",
      " 14  species_                1914 non-null   object \n",
      " 15  investigator_or_source  1914 non-null   object \n",
      " 16  pdf                     1914 non-null   object \n",
      " 17  href_formula            1914 non-null   object \n",
      " 18  href                    1914 non-null   object \n",
      " 19  case_number_1           1914 non-null   object \n",
      " 20  case_number_2           1914 non-null   object \n",
      " 21  original_order          1914 non-null   float64\n",
      " 22  unnamed_22              1914 non-null   object \n",
      " 23  unnamed_23              1914 non-null   object \n",
      "dtypes: float64(1), int32(2), object(21)\n",
      "memory usage: 358.9+ KB\n"
     ]
    }
   ],
   "source": [
    "df.info()"
   ]
  },
  {
   "cell_type": "code",
   "execution_count": 112,
   "id": "3835e2a3",
   "metadata": {},
   "outputs": [
    {
     "data": {
      "text/plain": [
       "24-Jun-2015    3\n",
       "12-Apr-2001    3\n",
       "20-Sep-2015    3\n",
       "23-Jan-1970    3\n",
       "09-Jul-1994    3\n",
       "              ..\n",
       "04-Sep-2005    1\n",
       "05-Sep-2005    1\n",
       "20-Sep-2005    1\n",
       "23-Sep-2005    1\n",
       "Early 1930s    1\n",
       "Name: date, Length: 1772, dtype: int64"
      ]
     },
     "execution_count": 112,
     "metadata": {},
     "output_type": "execute_result"
    }
   ],
   "source": [
    "df.date.value_counts()"
   ]
  },
  {
   "cell_type": "code",
   "execution_count": null,
   "id": "03f092ad",
   "metadata": {},
   "outputs": [],
   "source": []
  },
  {
   "cell_type": "code",
   "execution_count": null,
   "id": "16569d50",
   "metadata": {},
   "outputs": [],
   "source": []
  },
  {
   "cell_type": "code",
   "execution_count": null,
   "id": "1e293a1e",
   "metadata": {},
   "outputs": [],
   "source": []
  },
  {
   "cell_type": "code",
   "execution_count": null,
   "id": "53a913ad",
   "metadata": {},
   "outputs": [],
   "source": []
  },
  {
   "cell_type": "code",
   "execution_count": 113,
   "id": "1f58af93",
   "metadata": {},
   "outputs": [
    {
     "data": {
      "image/png": "[encoded data removed]",
      "text/plain": [
       "<Figure size 720x432 with 1 Axes>"
      ]
     },
     "metadata": {
      "needs_background": "light"
     },
     "output_type": "display_data"
    }
   ],
   "source": [
    "plt.figure(figsize=(10, 6))\n",
    "\n",
    "df.year.hist(bins=100)\n",
    "\n",
    "plt.ylabel('# Count')\n",
    "plt.xlabel('year');"
   ]
  },
  {
   "cell_type": "code",
   "execution_count": 114,
   "id": "30cc3273",
   "metadata": {},
   "outputs": [
    {
     "data": {
      "image/png": "[encoded data removed]",
      "text/plain": [
       "<Figure size 720x432 with 1 Axes>"
      ]
     },
     "metadata": {
      "needs_background": "light"
     },
     "output_type": "display_data"
    }
   ],
   "source": [
    "plt.figure(figsize=(10, 6))\n",
    "\n",
    "data=df[df.year>1550].year\n",
    "\n",
    "data.hist(bins=100)\n",
    "\n",
    "plt.ylabel('# Count')\n",
    "plt.xlabel('year');"
   ]
  },
  {
   "cell_type": "markdown",
   "id": "69f4e551",
   "metadata": {},
   "source": [
    "## Insigt Nº1\n",
    "\n",
    "Conclusión: sesgo temporal. No han incrementado los ataques de tiburones a lo largo de los años. Simplemente hay más datos."
   ]
  },
  {
   "cell_type": "code",
   "execution_count": 115,
   "id": "96afebb8",
   "metadata": {},
   "outputs": [
    {
     "data": {
      "image/png": "[encoded data removed]",
      "text/plain": [
       "<Figure size 720x432 with 1 Axes>"
      ]
     },
     "metadata": {
      "needs_background": "light"
     },
     "output_type": "display_data"
    }
   ],
   "source": [
    "plt.figure(figsize=(10, 6))\n",
    "\n",
    "df.type.value_counts().plot.bar();"
   ]
  },
  {
   "cell_type": "markdown",
   "id": "2805aa05",
   "metadata": {},
   "source": [
    "## Insight Nº2\n",
    "\n",
    "Conclusión: La gran mayoría de los ataques son no provocados. El tiburón ataca por propia supervivencia. No porque alguien le ataque."
   ]
  },
  {
   "cell_type": "code",
   "execution_count": 116,
   "id": "1b68a572",
   "metadata": {},
   "outputs": [
    {
     "data": {
      "image/png": "[encoded data removed]",
      "text/plain": [
       "<Figure size 720x432 with 1 Axes>"
      ]
     },
     "metadata": {
      "needs_background": "light"
     },
     "output_type": "display_data"
    }
   ],
   "source": [
    "plt.figure(figsize=(10, 6))\n",
    "\n",
    "df.activity.value_counts().head(20).plot.bar();"
   ]
  },
  {
   "cell_type": "markdown",
   "id": "af92116f",
   "metadata": {},
   "source": [
    "## Insight Nº3\n",
    "\n",
    "Conclusión: Los ataques se producen mientras la víctima realiza una actividad en el medio natural de los tiburones: el mar."
   ]
  },
  {
   "cell_type": "code",
   "execution_count": 117,
   "id": "26d5478d",
   "metadata": {},
   "outputs": [
    {
     "data": {
      "image/png": "[encoded data removed]",
      "text/plain": [
       "<Figure size 720x432 with 1 Axes>"
      ]
     },
     "metadata": {
      "needs_background": "light"
     },
     "output_type": "display_data"
    }
   ],
   "source": [
    "plt.figure(figsize=(10, 6))\n",
    "\n",
    "df.sex_.value_counts().plot.bar();"
   ]
  },
  {
   "cell_type": "markdown",
   "id": "ce4b73c7",
   "metadata": {},
   "source": [
    "## Insight Nº4\n",
    "\n",
    "Conclusión: La gran mayoría de las victimas son de sexo masculino. Esto no significa que la comida preferida de los tiburones sean hombres. Sino porque los deportes marinos son practicados principalmente por hombres:"
   ]
  },
  {
   "cell_type": "code",
   "execution_count": null,
   "id": "e9ac2ac1",
   "metadata": {},
   "outputs": [],
   "source": []
  },
  {
   "cell_type": "code",
   "execution_count": null,
   "id": "402b2b1c",
   "metadata": {},
   "outputs": [],
   "source": []
  },
  {
   "cell_type": "code",
   "execution_count": null,
   "id": "f8c2c586",
   "metadata": {},
   "outputs": [],
   "source": []
  },
  {
   "cell_type": "code",
   "execution_count": null,
   "id": "6a174b04",
   "metadata": {},
   "outputs": [],
   "source": []
  },
  {
   "cell_type": "code",
   "execution_count": null,
   "id": "ff62bdb0",
   "metadata": {},
   "outputs": [],
   "source": []
  }
 ],
 "metadata": {
  "kernelspec": {
   "display_name": "Python 3 (ipykernel)",
   "language": "python",
   "name": "python3"
  },
  "language_info": {
   "codemirror_mode": {
    "name": "ipython",
    "version": 3
   },
   "file_extension": ".py",
   "mimetype": "text/x-python",
   "name": "python",
   "nbconvert_exporter": "python",
   "pygments_lexer": "ipython3",
   "version": "3.9.7"
  }
 },
 "nbformat": 4,
 "nbformat_minor": 5
}
